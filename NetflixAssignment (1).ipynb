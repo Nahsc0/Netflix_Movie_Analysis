{
 "cells": [
  {
   "cell_type": "markdown",
   "id": "48c23d79",
   "metadata": {},
   "source": [
    "# Assignment Questions:\n",
    "\n",
    "1.Find number of movies relased in each decade\n",
    "from 1945, show a line chart to display this.\n",
    "\n",
    "\n",
    "2. show the distirbution of run time features using an appropriate chart.\n",
    "\n",
    "\n",
    "3. show barchart for movie genres.\n",
    "\n",
    "\n",
    "4. show barchart for movie genres for children movies.\n",
    "\n",
    "\n",
    "5. which of the genres have the highest runtime on the overal datatset and for each age group."
   ]
  },
  {
   "cell_type": "code",
   "execution_count": 1,
   "id": "cf017909",
   "metadata": {},
   "outputs": [],
   "source": [
    "import pandas as pd\n",
    "import numpy as numpy\n",
    "import matplotlib.pyplot as plt\n",
    "import seaborn as sns"
   ]
  },
  {
   "cell_type": "markdown",
   "id": "4b1fc7b6",
   "metadata": {},
   "source": [
    "Importing data"
   ]
  },
  {
   "cell_type": "code",
   "execution_count": 2,
   "id": "efa291ca",
   "metadata": {},
   "outputs": [],
   "source": [
    "df=pd.read_csv('imdb_movies_shows.csv')"
   ]
  },
  {
   "cell_type": "code",
   "execution_count": 3,
   "id": "b8800671",
   "metadata": {},
   "outputs": [
    {
     "data": {
      "text/html": [
       "<div>\n",
       "<style scoped>\n",
       "    .dataframe tbody tr th:only-of-type {\n",
       "        vertical-align: middle;\n",
       "    }\n",
       "\n",
       "    .dataframe tbody tr th {\n",
       "        vertical-align: top;\n",
       "    }\n",
       "\n",
       "    .dataframe thead th {\n",
       "        text-align: right;\n",
       "    }\n",
       "</style>\n",
       "<table border=\"1\" class=\"dataframe\">\n",
       "  <thead>\n",
       "    <tr style=\"text-align: right;\">\n",
       "      <th></th>\n",
       "      <th>title</th>\n",
       "      <th>type</th>\n",
       "      <th>release_year</th>\n",
       "      <th>age_certification</th>\n",
       "      <th>runtime</th>\n",
       "      <th>genres</th>\n",
       "      <th>production_countries</th>\n",
       "      <th>seasons</th>\n",
       "      <th>imdb_id</th>\n",
       "      <th>imdb_score</th>\n",
       "      <th>imdb_votes</th>\n",
       "    </tr>\n",
       "  </thead>\n",
       "  <tbody>\n",
       "    <tr>\n",
       "      <th>0</th>\n",
       "      <td>Five Came Back: The Reference Films</td>\n",
       "      <td>SHOW</td>\n",
       "      <td>1945</td>\n",
       "      <td>TV-MA</td>\n",
       "      <td>48</td>\n",
       "      <td>['documentation']</td>\n",
       "      <td>['US']</td>\n",
       "      <td>1.0</td>\n",
       "      <td>NaN</td>\n",
       "      <td>NaN</td>\n",
       "      <td>NaN</td>\n",
       "    </tr>\n",
       "    <tr>\n",
       "      <th>1</th>\n",
       "      <td>Taxi Driver</td>\n",
       "      <td>MOVIE</td>\n",
       "      <td>1976</td>\n",
       "      <td>R</td>\n",
       "      <td>113</td>\n",
       "      <td>['crime', 'drama']</td>\n",
       "      <td>['US']</td>\n",
       "      <td>NaN</td>\n",
       "      <td>tt0075314</td>\n",
       "      <td>8.3</td>\n",
       "      <td>795222.0</td>\n",
       "    </tr>\n",
       "    <tr>\n",
       "      <th>2</th>\n",
       "      <td>Monty Python and the Holy Grail</td>\n",
       "      <td>MOVIE</td>\n",
       "      <td>1975</td>\n",
       "      <td>PG</td>\n",
       "      <td>91</td>\n",
       "      <td>['comedy', 'fantasy']</td>\n",
       "      <td>['GB']</td>\n",
       "      <td>NaN</td>\n",
       "      <td>tt0071853</td>\n",
       "      <td>8.2</td>\n",
       "      <td>530877.0</td>\n",
       "    </tr>\n",
       "    <tr>\n",
       "      <th>3</th>\n",
       "      <td>Life of Brian</td>\n",
       "      <td>MOVIE</td>\n",
       "      <td>1979</td>\n",
       "      <td>R</td>\n",
       "      <td>94</td>\n",
       "      <td>['comedy']</td>\n",
       "      <td>['GB']</td>\n",
       "      <td>NaN</td>\n",
       "      <td>tt0079470</td>\n",
       "      <td>8.0</td>\n",
       "      <td>392419.0</td>\n",
       "    </tr>\n",
       "    <tr>\n",
       "      <th>4</th>\n",
       "      <td>The Exorcist</td>\n",
       "      <td>MOVIE</td>\n",
       "      <td>1973</td>\n",
       "      <td>R</td>\n",
       "      <td>133</td>\n",
       "      <td>['horror']</td>\n",
       "      <td>['US']</td>\n",
       "      <td>NaN</td>\n",
       "      <td>tt0070047</td>\n",
       "      <td>8.1</td>\n",
       "      <td>391942.0</td>\n",
       "    </tr>\n",
       "  </tbody>\n",
       "</table>\n",
       "</div>"
      ],
      "text/plain": [
       "                                 title   type  release_year age_certification  \\\n",
       "0  Five Came Back: The Reference Films   SHOW          1945             TV-MA   \n",
       "1                          Taxi Driver  MOVIE          1976                 R   \n",
       "2      Monty Python and the Holy Grail  MOVIE          1975                PG   \n",
       "3                        Life of Brian  MOVIE          1979                 R   \n",
       "4                         The Exorcist  MOVIE          1973                 R   \n",
       "\n",
       "   runtime                 genres production_countries  seasons    imdb_id  \\\n",
       "0       48      ['documentation']               ['US']      1.0        NaN   \n",
       "1      113     ['crime', 'drama']               ['US']      NaN  tt0075314   \n",
       "2       91  ['comedy', 'fantasy']               ['GB']      NaN  tt0071853   \n",
       "3       94             ['comedy']               ['GB']      NaN  tt0079470   \n",
       "4      133             ['horror']               ['US']      NaN  tt0070047   \n",
       "\n",
       "   imdb_score  imdb_votes  \n",
       "0         NaN         NaN  \n",
       "1         8.3    795222.0  \n",
       "2         8.2    530877.0  \n",
       "3         8.0    392419.0  \n",
       "4         8.1    391942.0  "
      ]
     },
     "execution_count": 3,
     "metadata": {},
     "output_type": "execute_result"
    }
   ],
   "source": [
    "df.head()"
   ]
  },
  {
   "cell_type": "code",
   "execution_count": 4,
   "id": "2d5b76a7",
   "metadata": {},
   "outputs": [
    {
     "data": {
      "text/html": [
       "<div>\n",
       "<style scoped>\n",
       "    .dataframe tbody tr th:only-of-type {\n",
       "        vertical-align: middle;\n",
       "    }\n",
       "\n",
       "    .dataframe tbody tr th {\n",
       "        vertical-align: top;\n",
       "    }\n",
       "\n",
       "    .dataframe thead th {\n",
       "        text-align: right;\n",
       "    }\n",
       "</style>\n",
       "<table border=\"1\" class=\"dataframe\">\n",
       "  <thead>\n",
       "    <tr style=\"text-align: right;\">\n",
       "      <th></th>\n",
       "      <th>title</th>\n",
       "      <th>type</th>\n",
       "      <th>release_year</th>\n",
       "      <th>age_certification</th>\n",
       "      <th>runtime</th>\n",
       "      <th>genres</th>\n",
       "      <th>production_countries</th>\n",
       "      <th>seasons</th>\n",
       "      <th>imdb_id</th>\n",
       "      <th>imdb_score</th>\n",
       "      <th>imdb_votes</th>\n",
       "    </tr>\n",
       "  </thead>\n",
       "  <tbody>\n",
       "    <tr>\n",
       "      <th>5801</th>\n",
       "      <td>Fine Wine</td>\n",
       "      <td>MOVIE</td>\n",
       "      <td>2021</td>\n",
       "      <td>NaN</td>\n",
       "      <td>100</td>\n",
       "      <td>['romance', 'drama']</td>\n",
       "      <td>['NG']</td>\n",
       "      <td>NaN</td>\n",
       "      <td>tt13857480</td>\n",
       "      <td>6.9</td>\n",
       "      <td>39.0</td>\n",
       "    </tr>\n",
       "    <tr>\n",
       "      <th>5802</th>\n",
       "      <td>Edis Starlight</td>\n",
       "      <td>MOVIE</td>\n",
       "      <td>2021</td>\n",
       "      <td>NaN</td>\n",
       "      <td>74</td>\n",
       "      <td>['music', 'documentation']</td>\n",
       "      <td>[]</td>\n",
       "      <td>NaN</td>\n",
       "      <td>NaN</td>\n",
       "      <td>NaN</td>\n",
       "      <td>NaN</td>\n",
       "    </tr>\n",
       "    <tr>\n",
       "      <th>5803</th>\n",
       "      <td>Clash</td>\n",
       "      <td>MOVIE</td>\n",
       "      <td>2021</td>\n",
       "      <td>NaN</td>\n",
       "      <td>88</td>\n",
       "      <td>['family', 'drama']</td>\n",
       "      <td>['NG', 'CA']</td>\n",
       "      <td>NaN</td>\n",
       "      <td>tt14620732</td>\n",
       "      <td>6.5</td>\n",
       "      <td>32.0</td>\n",
       "    </tr>\n",
       "    <tr>\n",
       "      <th>5804</th>\n",
       "      <td>Shadow Parties</td>\n",
       "      <td>MOVIE</td>\n",
       "      <td>2021</td>\n",
       "      <td>NaN</td>\n",
       "      <td>116</td>\n",
       "      <td>['action', 'thriller']</td>\n",
       "      <td>[]</td>\n",
       "      <td>NaN</td>\n",
       "      <td>tt10168094</td>\n",
       "      <td>6.2</td>\n",
       "      <td>9.0</td>\n",
       "    </tr>\n",
       "    <tr>\n",
       "      <th>5805</th>\n",
       "      <td>Mighty Little Bheem: Kite Festival</td>\n",
       "      <td>SHOW</td>\n",
       "      <td>2021</td>\n",
       "      <td>NaN</td>\n",
       "      <td>0</td>\n",
       "      <td>['family', 'comedy', 'animation']</td>\n",
       "      <td>[]</td>\n",
       "      <td>1.0</td>\n",
       "      <td>tt13711094</td>\n",
       "      <td>8.8</td>\n",
       "      <td>16.0</td>\n",
       "    </tr>\n",
       "  </tbody>\n",
       "</table>\n",
       "</div>"
      ],
      "text/plain": [
       "                                   title   type  release_year  \\\n",
       "5801                           Fine Wine  MOVIE          2021   \n",
       "5802                      Edis Starlight  MOVIE          2021   \n",
       "5803                               Clash  MOVIE          2021   \n",
       "5804                      Shadow Parties  MOVIE          2021   \n",
       "5805  Mighty Little Bheem: Kite Festival   SHOW          2021   \n",
       "\n",
       "     age_certification  runtime                             genres  \\\n",
       "5801               NaN      100               ['romance', 'drama']   \n",
       "5802               NaN       74         ['music', 'documentation']   \n",
       "5803               NaN       88                ['family', 'drama']   \n",
       "5804               NaN      116             ['action', 'thriller']   \n",
       "5805               NaN        0  ['family', 'comedy', 'animation']   \n",
       "\n",
       "     production_countries  seasons     imdb_id  imdb_score  imdb_votes  \n",
       "5801               ['NG']      NaN  tt13857480         6.9        39.0  \n",
       "5802                   []      NaN         NaN         NaN         NaN  \n",
       "5803         ['NG', 'CA']      NaN  tt14620732         6.5        32.0  \n",
       "5804                   []      NaN  tt10168094         6.2         9.0  \n",
       "5805                   []      1.0  tt13711094         8.8        16.0  "
      ]
     },
     "execution_count": 4,
     "metadata": {},
     "output_type": "execute_result"
    }
   ],
   "source": [
    "df.tail()"
   ]
  },
  {
   "cell_type": "code",
   "execution_count": 5,
   "id": "b6abdf33",
   "metadata": {},
   "outputs": [
    {
     "data": {
      "text/html": [
       "<div>\n",
       "<style scoped>\n",
       "    .dataframe tbody tr th:only-of-type {\n",
       "        vertical-align: middle;\n",
       "    }\n",
       "\n",
       "    .dataframe tbody tr th {\n",
       "        vertical-align: top;\n",
       "    }\n",
       "\n",
       "    .dataframe thead th {\n",
       "        text-align: right;\n",
       "    }\n",
       "</style>\n",
       "<table border=\"1\" class=\"dataframe\">\n",
       "  <thead>\n",
       "    <tr style=\"text-align: right;\">\n",
       "      <th></th>\n",
       "      <th>release_year</th>\n",
       "      <th>runtime</th>\n",
       "      <th>seasons</th>\n",
       "      <th>imdb_score</th>\n",
       "      <th>imdb_votes</th>\n",
       "    </tr>\n",
       "  </thead>\n",
       "  <tbody>\n",
       "    <tr>\n",
       "      <th>count</th>\n",
       "      <td>5806.000000</td>\n",
       "      <td>5806.000000</td>\n",
       "      <td>2047.000000</td>\n",
       "      <td>5283.000000</td>\n",
       "      <td>5.267000e+03</td>\n",
       "    </tr>\n",
       "    <tr>\n",
       "      <th>mean</th>\n",
       "      <td>2016.013434</td>\n",
       "      <td>77.643989</td>\n",
       "      <td>2.165608</td>\n",
       "      <td>6.533447</td>\n",
       "      <td>2.340719e+04</td>\n",
       "    </tr>\n",
       "    <tr>\n",
       "      <th>std</th>\n",
       "      <td>7.324883</td>\n",
       "      <td>39.474160</td>\n",
       "      <td>2.636207</td>\n",
       "      <td>1.160932</td>\n",
       "      <td>8.713432e+04</td>\n",
       "    </tr>\n",
       "    <tr>\n",
       "      <th>min</th>\n",
       "      <td>1945.000000</td>\n",
       "      <td>0.000000</td>\n",
       "      <td>1.000000</td>\n",
       "      <td>1.500000</td>\n",
       "      <td>5.000000e+00</td>\n",
       "    </tr>\n",
       "    <tr>\n",
       "      <th>25%</th>\n",
       "      <td>2015.000000</td>\n",
       "      <td>44.000000</td>\n",
       "      <td>1.000000</td>\n",
       "      <td>5.800000</td>\n",
       "      <td>5.210000e+02</td>\n",
       "    </tr>\n",
       "    <tr>\n",
       "      <th>50%</th>\n",
       "      <td>2018.000000</td>\n",
       "      <td>84.000000</td>\n",
       "      <td>1.000000</td>\n",
       "      <td>6.600000</td>\n",
       "      <td>2.279000e+03</td>\n",
       "    </tr>\n",
       "    <tr>\n",
       "      <th>75%</th>\n",
       "      <td>2020.000000</td>\n",
       "      <td>105.000000</td>\n",
       "      <td>2.000000</td>\n",
       "      <td>7.400000</td>\n",
       "      <td>1.014400e+04</td>\n",
       "    </tr>\n",
       "    <tr>\n",
       "      <th>max</th>\n",
       "      <td>2022.000000</td>\n",
       "      <td>251.000000</td>\n",
       "      <td>42.000000</td>\n",
       "      <td>9.600000</td>\n",
       "      <td>2.268288e+06</td>\n",
       "    </tr>\n",
       "  </tbody>\n",
       "</table>\n",
       "</div>"
      ],
      "text/plain": [
       "       release_year      runtime      seasons   imdb_score    imdb_votes\n",
       "count   5806.000000  5806.000000  2047.000000  5283.000000  5.267000e+03\n",
       "mean    2016.013434    77.643989     2.165608     6.533447  2.340719e+04\n",
       "std        7.324883    39.474160     2.636207     1.160932  8.713432e+04\n",
       "min     1945.000000     0.000000     1.000000     1.500000  5.000000e+00\n",
       "25%     2015.000000    44.000000     1.000000     5.800000  5.210000e+02\n",
       "50%     2018.000000    84.000000     1.000000     6.600000  2.279000e+03\n",
       "75%     2020.000000   105.000000     2.000000     7.400000  1.014400e+04\n",
       "max     2022.000000   251.000000    42.000000     9.600000  2.268288e+06"
      ]
     },
     "execution_count": 5,
     "metadata": {},
     "output_type": "execute_result"
    }
   ],
   "source": [
    "df.describe()"
   ]
  },
  {
   "cell_type": "code",
   "execution_count": 6,
   "id": "fcceb3ab",
   "metadata": {},
   "outputs": [
    {
     "data": {
      "text/plain": [
       "title                      1\n",
       "type                       0\n",
       "release_year               0\n",
       "age_certification       2610\n",
       "runtime                    0\n",
       "genres                     0\n",
       "production_countries       0\n",
       "seasons                 3759\n",
       "imdb_id                  444\n",
       "imdb_score               523\n",
       "imdb_votes               539\n",
       "dtype: int64"
      ]
     },
     "execution_count": 6,
     "metadata": {},
     "output_type": "execute_result"
    }
   ],
   "source": [
    "df.isnull().sum()"
   ]
  },
  {
   "cell_type": "code",
   "execution_count": 7,
   "id": "dd5d6ae3",
   "metadata": {},
   "outputs": [
    {
     "name": "stdout",
     "output_type": "stream",
     "text": [
      "<class 'pandas.core.frame.DataFrame'>\n",
      "RangeIndex: 5806 entries, 0 to 5805\n",
      "Data columns (total 11 columns):\n",
      " #   Column                Non-Null Count  Dtype  \n",
      "---  ------                --------------  -----  \n",
      " 0   title                 5805 non-null   object \n",
      " 1   type                  5806 non-null   object \n",
      " 2   release_year          5806 non-null   int64  \n",
      " 3   age_certification     3196 non-null   object \n",
      " 4   runtime               5806 non-null   int64  \n",
      " 5   genres                5806 non-null   object \n",
      " 6   production_countries  5806 non-null   object \n",
      " 7   seasons               2047 non-null   float64\n",
      " 8   imdb_id               5362 non-null   object \n",
      " 9   imdb_score            5283 non-null   float64\n",
      " 10  imdb_votes            5267 non-null   float64\n",
      "dtypes: float64(3), int64(2), object(6)\n",
      "memory usage: 499.1+ KB\n"
     ]
    }
   ],
   "source": [
    "df.info()"
   ]
  },
  {
   "cell_type": "code",
   "execution_count": 8,
   "id": "8d60a473",
   "metadata": {},
   "outputs": [
    {
     "data": {
      "text/plain": [
       "age_certification\n",
       "TV-MA    841\n",
       "R        575\n",
       "TV-14    470\n",
       "PG-13    440\n",
       "PG       246\n",
       "TV-PG    186\n",
       "G        131\n",
       "TV-Y7    112\n",
       "TV-Y     105\n",
       "TV-G      76\n",
       "NC-17     14\n",
       "Name: count, dtype: int64"
      ]
     },
     "execution_count": 8,
     "metadata": {},
     "output_type": "execute_result"
    }
   ],
   "source": [
    "df['age_certification'].value_counts()"
   ]
  },
  {
   "cell_type": "code",
   "execution_count": 9,
   "id": "195c3513",
   "metadata": {},
   "outputs": [
    {
     "data": {
      "text/plain": [
       "array(['TV-MA', 'R', 'PG', 'TV-14', 'G', 'PG-13', nan, 'TV-PG', 'TV-Y',\n",
       "       'TV-G', 'TV-Y7', 'NC-17'], dtype=object)"
      ]
     },
     "execution_count": 9,
     "metadata": {},
     "output_type": "execute_result"
    }
   ],
   "source": [
    "df['age_certification'].unique()"
   ]
  },
  {
   "cell_type": "code",
   "execution_count": 10,
   "id": "413fd1a5",
   "metadata": {},
   "outputs": [
    {
     "data": {
      "text/plain": [
       "array([1945, 1976, 1975, 1979, 1973, 1969, 1971, 1964, 1980, 1967, 1966,\n",
       "       1961, 1954, 1958, 1968, 1977, 1972, 1963, 1960, 1956, 1953, 1974,\n",
       "       1959, 1962, 1978, 1986, 1989, 1984, 1990, 1987, 1983, 1982, 1981,\n",
       "       1988, 1985, 1995, 2000, 1997, 1994, 1996, 1999, 1998, 1993, 1992,\n",
       "       1991, 2008, 2010, 2004, 2005, 2003, 2009, 2007, 2006, 2001, 2002,\n",
       "       2012, 2011, 2014, 2013, 2015, 2016, 2017, 2018, 2019, 2020, 2022,\n",
       "       2021], dtype=int64)"
      ]
     },
     "execution_count": 10,
     "metadata": {},
     "output_type": "execute_result"
    }
   ],
   "source": [
    "df['release_year'].unique()"
   ]
  },
  {
   "cell_type": "code",
   "execution_count": 11,
   "id": "83f3e345",
   "metadata": {},
   "outputs": [
    {
     "data": {
      "text/plain": [
       "genres\n",
       "['comedy']                                            510\n",
       "['drama']                                             350\n",
       "['documentation']                                     320\n",
       "['comedy', 'drama']                                   141\n",
       "['drama', 'comedy']                                   128\n",
       "                                                     ... \n",
       "['drama', 'family', 'comedy', 'music']                  1\n",
       "['drama', 'thriller', 'western']                        1\n",
       "['comedy', 'thriller', 'drama', 'action', 'crime']      1\n",
       "['romance', 'drama', 'history', 'european']             1\n",
       "['family', 'comedy', 'animation']                       1\n",
       "Name: count, Length: 1626, dtype: int64"
      ]
     },
     "execution_count": 11,
     "metadata": {},
     "output_type": "execute_result"
    }
   ],
   "source": [
    "df['genres'].value_counts()"
   ]
  },
  {
   "cell_type": "code",
   "execution_count": 12,
   "id": "d3f9484d",
   "metadata": {},
   "outputs": [
    {
     "data": {
      "text/plain": [
       "pandas.core.series.Series"
      ]
     },
     "execution_count": 12,
     "metadata": {},
     "output_type": "execute_result"
    }
   ],
   "source": [
    "type(df['genres'])"
   ]
  },
  {
   "cell_type": "markdown",
   "id": "be3a99ac",
   "metadata": {},
   "source": [
    "Data Cleaning \n",
    "Dropping null values"
   ]
  },
  {
   "cell_type": "code",
   "execution_count": 13,
   "id": "d2c8b08a",
   "metadata": {},
   "outputs": [],
   "source": [
    "df= df.dropna(subset=['title'])"
   ]
  },
  {
   "cell_type": "code",
   "execution_count": 14,
   "id": "5cfd9f07",
   "metadata": {},
   "outputs": [
    {
     "data": {
      "text/html": [
       "<div>\n",
       "<style scoped>\n",
       "    .dataframe tbody tr th:only-of-type {\n",
       "        vertical-align: middle;\n",
       "    }\n",
       "\n",
       "    .dataframe tbody tr th {\n",
       "        vertical-align: top;\n",
       "    }\n",
       "\n",
       "    .dataframe thead th {\n",
       "        text-align: right;\n",
       "    }\n",
       "</style>\n",
       "<table border=\"1\" class=\"dataframe\">\n",
       "  <thead>\n",
       "    <tr style=\"text-align: right;\">\n",
       "      <th></th>\n",
       "      <th>title</th>\n",
       "      <th>type</th>\n",
       "      <th>release_year</th>\n",
       "      <th>age_certification</th>\n",
       "      <th>runtime</th>\n",
       "      <th>genres</th>\n",
       "      <th>production_countries</th>\n",
       "      <th>seasons</th>\n",
       "      <th>imdb_id</th>\n",
       "      <th>imdb_score</th>\n",
       "      <th>imdb_votes</th>\n",
       "    </tr>\n",
       "  </thead>\n",
       "  <tbody>\n",
       "  </tbody>\n",
       "</table>\n",
       "</div>"
      ],
      "text/plain": [
       "Empty DataFrame\n",
       "Columns: [title, type, release_year, age_certification, runtime, genres, production_countries, seasons, imdb_id, imdb_score, imdb_votes]\n",
       "Index: []"
      ]
     },
     "execution_count": 14,
     "metadata": {},
     "output_type": "execute_result"
    }
   ],
   "source": [
    "df[df['title'].isnull()]"
   ]
  },
  {
   "cell_type": "code",
   "execution_count": 15,
   "id": "0db46ec4",
   "metadata": {},
   "outputs": [],
   "source": [
    "df= df.dropna(subset=['imdb_id'])"
   ]
  },
  {
   "cell_type": "code",
   "execution_count": 16,
   "id": "c9d9b040",
   "metadata": {},
   "outputs": [
    {
     "data": {
      "text/html": [
       "<div>\n",
       "<style scoped>\n",
       "    .dataframe tbody tr th:only-of-type {\n",
       "        vertical-align: middle;\n",
       "    }\n",
       "\n",
       "    .dataframe tbody tr th {\n",
       "        vertical-align: top;\n",
       "    }\n",
       "\n",
       "    .dataframe thead th {\n",
       "        text-align: right;\n",
       "    }\n",
       "</style>\n",
       "<table border=\"1\" class=\"dataframe\">\n",
       "  <thead>\n",
       "    <tr style=\"text-align: right;\">\n",
       "      <th></th>\n",
       "      <th>title</th>\n",
       "      <th>type</th>\n",
       "      <th>release_year</th>\n",
       "      <th>age_certification</th>\n",
       "      <th>runtime</th>\n",
       "      <th>genres</th>\n",
       "      <th>production_countries</th>\n",
       "      <th>seasons</th>\n",
       "      <th>imdb_id</th>\n",
       "      <th>imdb_score</th>\n",
       "      <th>imdb_votes</th>\n",
       "    </tr>\n",
       "  </thead>\n",
       "  <tbody>\n",
       "  </tbody>\n",
       "</table>\n",
       "</div>"
      ],
      "text/plain": [
       "Empty DataFrame\n",
       "Columns: [title, type, release_year, age_certification, runtime, genres, production_countries, seasons, imdb_id, imdb_score, imdb_votes]\n",
       "Index: []"
      ]
     },
     "execution_count": 16,
     "metadata": {},
     "output_type": "execute_result"
    }
   ],
   "source": [
    "df[df['imdb_id'].isnull()]"
   ]
  },
  {
   "cell_type": "markdown",
   "id": "2e927330",
   "metadata": {},
   "source": [
    "Converting genres and production countries to csv"
   ]
  },
  {
   "cell_type": "code",
   "execution_count": 17,
   "id": "d7ab0ab9",
   "metadata": {},
   "outputs": [],
   "source": [
    "df['genres'] = df['genres'].str.replace('[', '')\n",
    "df['genres'] = df['genres'].str.replace(']', '')"
   ]
  },
  {
   "cell_type": "code",
   "execution_count": 18,
   "id": "1d811585",
   "metadata": {},
   "outputs": [
    {
     "data": {
      "text/html": [
       "<div>\n",
       "<style scoped>\n",
       "    .dataframe tbody tr th:only-of-type {\n",
       "        vertical-align: middle;\n",
       "    }\n",
       "\n",
       "    .dataframe tbody tr th {\n",
       "        vertical-align: top;\n",
       "    }\n",
       "\n",
       "    .dataframe thead th {\n",
       "        text-align: right;\n",
       "    }\n",
       "</style>\n",
       "<table border=\"1\" class=\"dataframe\">\n",
       "  <thead>\n",
       "    <tr style=\"text-align: right;\">\n",
       "      <th></th>\n",
       "      <th>title</th>\n",
       "      <th>type</th>\n",
       "      <th>release_year</th>\n",
       "      <th>age_certification</th>\n",
       "      <th>runtime</th>\n",
       "      <th>genres</th>\n",
       "      <th>production_countries</th>\n",
       "      <th>seasons</th>\n",
       "      <th>imdb_id</th>\n",
       "      <th>imdb_score</th>\n",
       "      <th>imdb_votes</th>\n",
       "    </tr>\n",
       "  </thead>\n",
       "  <tbody>\n",
       "    <tr>\n",
       "      <th>1</th>\n",
       "      <td>Taxi Driver</td>\n",
       "      <td>MOVIE</td>\n",
       "      <td>1976</td>\n",
       "      <td>R</td>\n",
       "      <td>113</td>\n",
       "      <td>'crime', 'drama'</td>\n",
       "      <td>['US']</td>\n",
       "      <td>NaN</td>\n",
       "      <td>tt0075314</td>\n",
       "      <td>8.3</td>\n",
       "      <td>795222.0</td>\n",
       "    </tr>\n",
       "    <tr>\n",
       "      <th>2</th>\n",
       "      <td>Monty Python and the Holy Grail</td>\n",
       "      <td>MOVIE</td>\n",
       "      <td>1975</td>\n",
       "      <td>PG</td>\n",
       "      <td>91</td>\n",
       "      <td>'comedy', 'fantasy'</td>\n",
       "      <td>['GB']</td>\n",
       "      <td>NaN</td>\n",
       "      <td>tt0071853</td>\n",
       "      <td>8.2</td>\n",
       "      <td>530877.0</td>\n",
       "    </tr>\n",
       "    <tr>\n",
       "      <th>3</th>\n",
       "      <td>Life of Brian</td>\n",
       "      <td>MOVIE</td>\n",
       "      <td>1979</td>\n",
       "      <td>R</td>\n",
       "      <td>94</td>\n",
       "      <td>'comedy'</td>\n",
       "      <td>['GB']</td>\n",
       "      <td>NaN</td>\n",
       "      <td>tt0079470</td>\n",
       "      <td>8.0</td>\n",
       "      <td>392419.0</td>\n",
       "    </tr>\n",
       "    <tr>\n",
       "      <th>4</th>\n",
       "      <td>The Exorcist</td>\n",
       "      <td>MOVIE</td>\n",
       "      <td>1973</td>\n",
       "      <td>R</td>\n",
       "      <td>133</td>\n",
       "      <td>'horror'</td>\n",
       "      <td>['US']</td>\n",
       "      <td>NaN</td>\n",
       "      <td>tt0070047</td>\n",
       "      <td>8.1</td>\n",
       "      <td>391942.0</td>\n",
       "    </tr>\n",
       "    <tr>\n",
       "      <th>5</th>\n",
       "      <td>Monty Python's Flying Circus</td>\n",
       "      <td>SHOW</td>\n",
       "      <td>1969</td>\n",
       "      <td>TV-14</td>\n",
       "      <td>30</td>\n",
       "      <td>'comedy', 'european'</td>\n",
       "      <td>['GB']</td>\n",
       "      <td>4.0</td>\n",
       "      <td>tt0063929</td>\n",
       "      <td>8.8</td>\n",
       "      <td>72895.0</td>\n",
       "    </tr>\n",
       "  </tbody>\n",
       "</table>\n",
       "</div>"
      ],
      "text/plain": [
       "                             title   type  release_year age_certification  \\\n",
       "1                      Taxi Driver  MOVIE          1976                 R   \n",
       "2  Monty Python and the Holy Grail  MOVIE          1975                PG   \n",
       "3                    Life of Brian  MOVIE          1979                 R   \n",
       "4                     The Exorcist  MOVIE          1973                 R   \n",
       "5     Monty Python's Flying Circus   SHOW          1969             TV-14   \n",
       "\n",
       "   runtime                genres production_countries  seasons    imdb_id  \\\n",
       "1      113      'crime', 'drama'               ['US']      NaN  tt0075314   \n",
       "2       91   'comedy', 'fantasy'               ['GB']      NaN  tt0071853   \n",
       "3       94              'comedy'               ['GB']      NaN  tt0079470   \n",
       "4      133              'horror'               ['US']      NaN  tt0070047   \n",
       "5       30  'comedy', 'european'               ['GB']      4.0  tt0063929   \n",
       "\n",
       "   imdb_score  imdb_votes  \n",
       "1         8.3    795222.0  \n",
       "2         8.2    530877.0  \n",
       "3         8.0    392419.0  \n",
       "4         8.1    391942.0  \n",
       "5         8.8     72895.0  "
      ]
     },
     "execution_count": 18,
     "metadata": {},
     "output_type": "execute_result"
    }
   ],
   "source": [
    "df.head()"
   ]
  },
  {
   "cell_type": "code",
   "execution_count": 19,
   "id": "07fe07bf",
   "metadata": {},
   "outputs": [],
   "source": [
    "df['production_countries'] = df['production_countries'].str.replace('[', '')\n",
    "df['production_countries'] = df['production_countries'].str.replace(']', '')"
   ]
  },
  {
   "cell_type": "code",
   "execution_count": 20,
   "id": "9b0cfef9",
   "metadata": {},
   "outputs": [
    {
     "data": {
      "text/html": [
       "<div>\n",
       "<style scoped>\n",
       "    .dataframe tbody tr th:only-of-type {\n",
       "        vertical-align: middle;\n",
       "    }\n",
       "\n",
       "    .dataframe tbody tr th {\n",
       "        vertical-align: top;\n",
       "    }\n",
       "\n",
       "    .dataframe thead th {\n",
       "        text-align: right;\n",
       "    }\n",
       "</style>\n",
       "<table border=\"1\" class=\"dataframe\">\n",
       "  <thead>\n",
       "    <tr style=\"text-align: right;\">\n",
       "      <th></th>\n",
       "      <th>title</th>\n",
       "      <th>type</th>\n",
       "      <th>release_year</th>\n",
       "      <th>age_certification</th>\n",
       "      <th>runtime</th>\n",
       "      <th>genres</th>\n",
       "      <th>production_countries</th>\n",
       "      <th>seasons</th>\n",
       "      <th>imdb_id</th>\n",
       "      <th>imdb_score</th>\n",
       "      <th>imdb_votes</th>\n",
       "    </tr>\n",
       "  </thead>\n",
       "  <tbody>\n",
       "    <tr>\n",
       "      <th>1</th>\n",
       "      <td>Taxi Driver</td>\n",
       "      <td>MOVIE</td>\n",
       "      <td>1976</td>\n",
       "      <td>R</td>\n",
       "      <td>113</td>\n",
       "      <td>'crime', 'drama'</td>\n",
       "      <td>'US'</td>\n",
       "      <td>NaN</td>\n",
       "      <td>tt0075314</td>\n",
       "      <td>8.3</td>\n",
       "      <td>795222.0</td>\n",
       "    </tr>\n",
       "    <tr>\n",
       "      <th>2</th>\n",
       "      <td>Monty Python and the Holy Grail</td>\n",
       "      <td>MOVIE</td>\n",
       "      <td>1975</td>\n",
       "      <td>PG</td>\n",
       "      <td>91</td>\n",
       "      <td>'comedy', 'fantasy'</td>\n",
       "      <td>'GB'</td>\n",
       "      <td>NaN</td>\n",
       "      <td>tt0071853</td>\n",
       "      <td>8.2</td>\n",
       "      <td>530877.0</td>\n",
       "    </tr>\n",
       "    <tr>\n",
       "      <th>3</th>\n",
       "      <td>Life of Brian</td>\n",
       "      <td>MOVIE</td>\n",
       "      <td>1979</td>\n",
       "      <td>R</td>\n",
       "      <td>94</td>\n",
       "      <td>'comedy'</td>\n",
       "      <td>'GB'</td>\n",
       "      <td>NaN</td>\n",
       "      <td>tt0079470</td>\n",
       "      <td>8.0</td>\n",
       "      <td>392419.0</td>\n",
       "    </tr>\n",
       "    <tr>\n",
       "      <th>4</th>\n",
       "      <td>The Exorcist</td>\n",
       "      <td>MOVIE</td>\n",
       "      <td>1973</td>\n",
       "      <td>R</td>\n",
       "      <td>133</td>\n",
       "      <td>'horror'</td>\n",
       "      <td>'US'</td>\n",
       "      <td>NaN</td>\n",
       "      <td>tt0070047</td>\n",
       "      <td>8.1</td>\n",
       "      <td>391942.0</td>\n",
       "    </tr>\n",
       "    <tr>\n",
       "      <th>5</th>\n",
       "      <td>Monty Python's Flying Circus</td>\n",
       "      <td>SHOW</td>\n",
       "      <td>1969</td>\n",
       "      <td>TV-14</td>\n",
       "      <td>30</td>\n",
       "      <td>'comedy', 'european'</td>\n",
       "      <td>'GB'</td>\n",
       "      <td>4.0</td>\n",
       "      <td>tt0063929</td>\n",
       "      <td>8.8</td>\n",
       "      <td>72895.0</td>\n",
       "    </tr>\n",
       "  </tbody>\n",
       "</table>\n",
       "</div>"
      ],
      "text/plain": [
       "                             title   type  release_year age_certification  \\\n",
       "1                      Taxi Driver  MOVIE          1976                 R   \n",
       "2  Monty Python and the Holy Grail  MOVIE          1975                PG   \n",
       "3                    Life of Brian  MOVIE          1979                 R   \n",
       "4                     The Exorcist  MOVIE          1973                 R   \n",
       "5     Monty Python's Flying Circus   SHOW          1969             TV-14   \n",
       "\n",
       "   runtime                genres production_countries  seasons    imdb_id  \\\n",
       "1      113      'crime', 'drama'                 'US'      NaN  tt0075314   \n",
       "2       91   'comedy', 'fantasy'                 'GB'      NaN  tt0071853   \n",
       "3       94              'comedy'                 'GB'      NaN  tt0079470   \n",
       "4      133              'horror'                 'US'      NaN  tt0070047   \n",
       "5       30  'comedy', 'european'                 'GB'      4.0  tt0063929   \n",
       "\n",
       "   imdb_score  imdb_votes  \n",
       "1         8.3    795222.0  \n",
       "2         8.2    530877.0  \n",
       "3         8.0    392419.0  \n",
       "4         8.1    391942.0  \n",
       "5         8.8     72895.0  "
      ]
     },
     "execution_count": 20,
     "metadata": {},
     "output_type": "execute_result"
    }
   ],
   "source": [
    "df.head()"
   ]
  },
  {
   "cell_type": "markdown",
   "id": "e43684bc",
   "metadata": {},
   "source": [
    "## Question 1.Find number of movies relased in each decade from 1945, show a line chart to display this."
   ]
  },
  {
   "cell_type": "code",
   "execution_count": 21,
   "id": "3a5176a3",
   "metadata": {},
   "outputs": [],
   "source": [
    "df['decade'] = df['release_year'] // 10 * 10\n"
   ]
  },
  {
   "cell_type": "code",
   "execution_count": 22,
   "id": "19425b16",
   "metadata": {},
   "outputs": [],
   "source": [
    "decade_counts = df.groupby('decade').size()\n"
   ]
  },
  {
   "cell_type": "code",
   "execution_count": 23,
   "id": "bd9582ac",
   "metadata": {},
   "outputs": [
    {
     "data": {
      "image/png": "[encoded data removed]",
      "text/plain": [
       "<Figure size 1000x600 with 1 Axes>"
      ]
     },
     "metadata": {},
     "output_type": "display_data"
    }
   ],
   "source": [
    "plt.figure(figsize=(10,6))\n",
    "decade_counts.plot.line()\n",
    "plt.title('Number of Movies Released by Decade')\n",
    "plt.xlabel('Decade')\n",
    "plt.ylabel('Counts')\n",
    "plt.show()\n"
   ]
  },
  {
   "cell_type": "markdown",
   "id": "217f8e4e",
   "metadata": {},
   "source": [
    "## Question 2. Show The Distirbution of Run Time Features Using an Appropriate Chart."
   ]
  },
  {
   "cell_type": "code",
   "execution_count": 24,
   "id": "83db0f85",
   "metadata": {},
   "outputs": [
    {
     "data": {
      "image/png": "[encoded data removed]",
      "text/plain": [
       "<Figure size 1000x600 with 1 Axes>"
      ]
     },
     "metadata": {},
     "output_type": "display_data"
    }
   ],
   "source": [
    "plt.figure(figsize=(10,6))\n",
    "df['runtime'].hist(bins=30, edgecolor='black')\n",
    "plt.title('Distribution of Movie Runtimes')\n",
    "plt.xlabel('Runtime (minutes)')\n",
    "plt.ylabel('Counts')\n",
    "plt.show()\n"
   ]
  },
  {
   "cell_type": "markdown",
   "id": "be2d7219",
   "metadata": {},
   "source": [
    "## Question 3. Show Barchart For Movie Genres."
   ]
  },
  {
   "cell_type": "code",
   "execution_count": 25,
   "id": "500a0a22",
   "metadata": {},
   "outputs": [
    {
     "data": {
      "text/plain": [
       "array([\"'crime', 'drama'\", \"'comedy', 'fantasy'\", \"'comedy'\", ...,\n",
       "       \"'crime', 'comedy', 'drama', 'thriller', 'action'\",\n",
       "       \"'music', 'romance', 'comedy'\", \"'family', 'comedy', 'animation'\"],\n",
       "      dtype=object)"
      ]
     },
     "execution_count": 25,
     "metadata": {},
     "output_type": "execute_result"
    }
   ],
   "source": [
    " df['genres'].unique()"
   ]
  },
  {
   "cell_type": "code",
   "execution_count": 26,
   "id": "cef6f069",
   "metadata": {
    "scrolled": true
   },
   "outputs": [
    {
     "data": {
      "text/plain": [
       "<bound method IndexOpsMixin.value_counts of 1                      'crime', 'drama'\n",
       "2                   'comedy', 'fantasy'\n",
       "3                              'comedy'\n",
       "4                              'horror'\n",
       "5                  'comedy', 'european'\n",
       "                     ...               \n",
       "5800                           'comedy'\n",
       "5801                 'romance', 'drama'\n",
       "5803                  'family', 'drama'\n",
       "5804               'action', 'thriller'\n",
       "5805    'family', 'comedy', 'animation'\n",
       "Name: genres, Length: 5361, dtype: object>"
      ]
     },
     "execution_count": 26,
     "metadata": {},
     "output_type": "execute_result"
    }
   ],
   "source": [
    "df.genres.value_counts"
   ]
  },
  {
   "cell_type": "code",
   "execution_count": 27,
   "id": "f35f1767",
   "metadata": {},
   "outputs": [
    {
     "name": "stdout",
     "output_type": "stream",
     "text": [
      "<class 'pandas.core.series.Series'>\n",
      "Index: 5361 entries, 1 to 5805\n",
      "Series name: genres\n",
      "Non-Null Count  Dtype \n",
      "--------------  ----- \n",
      "5361 non-null   object\n",
      "dtypes: object(1)\n",
      "memory usage: 83.8+ KB\n"
     ]
    }
   ],
   "source": [
    "df.genres.info()"
   ]
  },
  {
   "cell_type": "code",
   "execution_count": 54,
   "id": "e71cd6b6",
   "metadata": {},
   "outputs": [],
   "source": [
    "# Define a function to map genres to broader categories\n",
    "def map_to_category(genre):\n",
    "    if 'action' in genre.lower() or 'crime' in genre.lower() or 'thriller' in genre.lower():\n",
    "        return 'Crime'\n",
    "    elif 'comedy' in genre.lower() or 'fantasy' in genre.lower():\n",
    "        return 'Comedy'\n",
    "    elif 'drama' in genre.lower():\n",
    "        return 'Drama'\n",
    "    elif 'romance' in genre.lower() or 'music' in genre.lower():\n",
    "        return 'Romance'\n",
    "    elif 'family' in genre.lower() or 'animation' in genre.lower():\n",
    "        return 'Family'\n",
    "    else:\n",
    "        return 'Other'\n"
   ]
  },
  {
   "cell_type": "code",
   "execution_count": null,
   "id": "4fd9d801",
   "metadata": {},
   "outputs": [],
   "source": []
  },
  {
   "cell_type": "code",
   "execution_count": 55,
   "id": "22e0c98b",
   "metadata": {},
   "outputs": [],
   "source": [
    "# Apply the function to create a new 'category' column\n",
    "df['category'] = df['genres'].apply(map_to_category)\n"
   ]
  },
  {
   "cell_type": "code",
   "execution_count": 49,
   "id": "9f7d6d8b",
   "metadata": {},
   "outputs": [
    {
     "name": "stdout",
     "output_type": "stream",
     "text": [
      "                               genres category\n",
      "1                    'crime', 'drama'   Action\n",
      "2                 'comedy', 'fantasy'   Comedy\n",
      "3                            'comedy'   Comedy\n",
      "4                            'horror'    Other\n",
      "5                'comedy', 'european'   Comedy\n",
      "...                               ...      ...\n",
      "5800                         'comedy'   Comedy\n",
      "5801               'romance', 'drama'    Drama\n",
      "5803                'family', 'drama'    Drama\n",
      "5804             'action', 'thriller'   Action\n",
      "5805  'family', 'comedy', 'animation'   Comedy\n",
      "\n",
      "[5361 rows x 2 columns]\n"
     ]
    }
   ],
   "source": [
    "# Display the result\n",
    "print(df[['genres', 'category']])\n"
   ]
  },
  {
   "cell_type": "code",
   "execution_count": 68,
   "id": "1e0810b4",
   "metadata": {},
   "outputs": [],
   "source": [
    "# Count the occurrences of each category\n",
    "category_counts = df['category'].value_counts()"
   ]
  },
  {
   "cell_type": "code",
   "execution_count": 57,
   "id": "ebbcc69c",
   "metadata": {},
   "outputs": [
    {
     "data": {
      "image/png": "[encoded data removed]",
      "text/plain": [
       "<Figure size 1000x600 with 1 Axes>"
      ]
     },
     "metadata": {},
     "output_type": "display_data"
    }
   ],
   "source": [
    "# Plot a bar chart\n",
    "plt.figure(figsize=(10, 6))\n",
    "category_counts.plot(kind='bar', color='skyblue')\n",
    "plt.title('Count of Movies by Category')\n",
    "plt.xlabel('Category')\n",
    "plt.ylabel('Count')\n",
    "\n",
    "# Rotate x-axis labels to be horizontal\n",
    "plt.xticks(rotation=0)\n",
    "\n",
    "# Add legend\n",
    "plt.legend()\n",
    "plt.show()\n"
   ]
  },
  {
   "cell_type": "markdown",
   "id": "0fc5b8ce",
   "metadata": {},
   "source": [
    "## Question 4. show barchart for movie genres for children movies."
   ]
  },
  {
   "cell_type": "code",
   "execution_count": 62,
   "id": "4635c004",
   "metadata": {},
   "outputs": [],
   "source": [
    "genre_counts = children_movies_df['genres'].value_counts()\n"
   ]
  },
  {
   "cell_type": "code",
   "execution_count": 63,
   "id": "70d88e94",
   "metadata": {},
   "outputs": [
    {
     "data": {
      "image/png": "[encoded data removed]",
      "text/plain": [
       "<Figure size 640x480 with 1 Axes>"
      ]
     },
     "metadata": {},
     "output_type": "display_data"
    }
   ],
   "source": [
    "# Children genres in the dataset\n",
    "children_movies_df['genres'].value_counts().head(10).plot(kind='barh')\n",
    "\n",
    "plt.show()"
   ]
  },
  {
   "cell_type": "code",
   "execution_count": null,
   "id": "b5fe3b36",
   "metadata": {},
   "outputs": [],
   "source": []
  },
  {
   "cell_type": "markdown",
   "id": "984736d7",
   "metadata": {},
   "source": [
    "## Question 5. Which of The Genres Have The Highest Runtime on The Overal Datatset and For Each Age Group."
   ]
  },
  {
   "cell_type": "code",
   "execution_count": 70,
   "id": "ed6495f3",
   "metadata": {},
   "outputs": [
    {
     "data": {
      "image/png": "[encoded data removed]",
      "text/plain": [
       "<Figure size 640x480 with 1 Axes>"
      ]
     },
     "metadata": {},
     "output_type": "display_data"
    }
   ],
   "source": [
    "# Average runtime by Ratings\n",
    "df.groupby('age_group_ratings')['runtime'].mean().plot(kind='barh')\n",
    "plt.xlabel('Runtime')\n",
    "plt.show()"
   ]
  },
  {
   "cell_type": "code",
   "execution_count": 71,
   "id": "ac0a7f69",
   "metadata": {
    "scrolled": true
   },
   "outputs": [
    {
     "data": {
      "image/png": "[encoded data removed]",
      "text/plain": [
       "<Figure size 640x480 with 1 Axes>"
      ]
     },
     "metadata": {},
     "output_type": "display_data"
    }
   ],
   "source": [
    "# Average runtime by Category in the whole Dataset\n",
    "df.groupby('category')['runtime'].mean().plot(kind='barh')\n",
    "plt.xlabel('Runtime')\n",
    "plt.show()"
   ]
  },
  {
   "cell_type": "code",
   "execution_count": null,
   "id": "e76b3fb1",
   "metadata": {},
   "outputs": [],
   "source": []
  },
  {
   "cell_type": "markdown",
   "id": "5829b124",
   "metadata": {},
   "source": [
    "## Other 5 Individual Question:"
   ]
  },
  {
   "cell_type": "code",
   "execution_count": 73,
   "id": "b9b68512",
   "metadata": {},
   "outputs": [
    {
     "data": {
      "image/png": "[encoded data removed]",
      "text/plain": [
       "<Figure size 640x480 with 1 Axes>"
      ]
     },
     "metadata": {},
     "output_type": "display_data"
    }
   ],
   "source": [
    "# Bar Chart for the types; whether movie or Show \n",
    "sns.countplot(x='type', data=df)\n",
    "plt.show()"
   ]
  },
  {
   "cell_type": "code",
   "execution_count": null,
   "id": "4e549b15",
   "metadata": {},
   "outputs": [],
   "source": []
  },
  {
   "cell_type": "code",
   "execution_count": 28,
   "id": "9319ac55",
   "metadata": {},
   "outputs": [],
   "source": [
    "def age_group(age_cert):\n",
    "    if age_cert in ['TV-MA', 'R', 'NC-17']:\n",
    "        return 'Adult'\n",
    "    elif age_cert in ['PG','TV-14','G','PG-13','TV-PG']:\n",
    "        return 'Requires Supervision'\n",
    "    elif age_cert in ['TV-Y','TV-G','TV-Y7']:\n",
    "        return 'Good for Children'\n",
    "    else:\n",
    "        return 'Not Rated'"
   ]
  },
  {
   "cell_type": "code",
   "execution_count": 29,
   "id": "46018056",
   "metadata": {},
   "outputs": [],
   "source": [
    "df['age_group_ratings']= df['age_certification'].apply(age_group)"
   ]
  },
  {
   "cell_type": "code",
   "execution_count": 30,
   "id": "ef0bdba0",
   "metadata": {},
   "outputs": [
    {
     "data": {
      "text/plain": [
       "age_group_ratings\n",
       "Not Rated               2331\n",
       "Requires Supervision    1392\n",
       "Adult                   1364\n",
       "Good for Children        274\n",
       "Name: count, dtype: int64"
      ]
     },
     "execution_count": 30,
     "metadata": {},
     "output_type": "execute_result"
    }
   ],
   "source": [
    "df['age_group_ratings'].value_counts()"
   ]
  },
  {
   "cell_type": "code",
   "execution_count": 31,
   "id": "67652147",
   "metadata": {},
   "outputs": [],
   "source": [
    "children_movies = df['age_group_ratings'] == 'Good for Children'"
   ]
  },
  {
   "cell_type": "code",
   "execution_count": 32,
   "id": "1a5550a1",
   "metadata": {},
   "outputs": [],
   "source": [
    "children_movies_df = df [children_movies]"
   ]
  },
  {
   "cell_type": "code",
   "execution_count": 33,
   "id": "521e56bb",
   "metadata": {},
   "outputs": [
    {
     "data": {
      "text/html": [
       "<div>\n",
       "<style scoped>\n",
       "    .dataframe tbody tr th:only-of-type {\n",
       "        vertical-align: middle;\n",
       "    }\n",
       "\n",
       "    .dataframe tbody tr th {\n",
       "        vertical-align: top;\n",
       "    }\n",
       "\n",
       "    .dataframe thead th {\n",
       "        text-align: right;\n",
       "    }\n",
       "</style>\n",
       "<table border=\"1\" class=\"dataframe\">\n",
       "  <thead>\n",
       "    <tr style=\"text-align: right;\">\n",
       "      <th></th>\n",
       "      <th>title</th>\n",
       "      <th>type</th>\n",
       "      <th>release_year</th>\n",
       "      <th>age_certification</th>\n",
       "      <th>runtime</th>\n",
       "      <th>genres</th>\n",
       "      <th>production_countries</th>\n",
       "      <th>seasons</th>\n",
       "      <th>imdb_id</th>\n",
       "      <th>imdb_score</th>\n",
       "      <th>imdb_votes</th>\n",
       "      <th>decade</th>\n",
       "      <th>age_group_ratings</th>\n",
       "    </tr>\n",
       "  </thead>\n",
       "  <tbody>\n",
       "    <tr>\n",
       "      <th>57</th>\n",
       "      <td>Thomas &amp; Friends</td>\n",
       "      <td>SHOW</td>\n",
       "      <td>1984</td>\n",
       "      <td>TV-Y</td>\n",
       "      <td>10</td>\n",
       "      <td>'family', 'comedy', 'music', 'action', 'animat...</td>\n",
       "      <td>'GB'</td>\n",
       "      <td>24.0</td>\n",
       "      <td>tt0086815</td>\n",
       "      <td>6.5</td>\n",
       "      <td>4948.0</td>\n",
       "      <td>1980</td>\n",
       "      <td>Good for Children</td>\n",
       "    </tr>\n",
       "    <tr>\n",
       "      <th>66</th>\n",
       "      <td>Fireman Sam</td>\n",
       "      <td>SHOW</td>\n",
       "      <td>1987</td>\n",
       "      <td>TV-Y</td>\n",
       "      <td>10</td>\n",
       "      <td>'comedy', 'animation', 'family', 'crime', 'eur...</td>\n",
       "      <td>'GB'</td>\n",
       "      <td>13.0</td>\n",
       "      <td>tt0329829</td>\n",
       "      <td>6.1</td>\n",
       "      <td>1759.0</td>\n",
       "      <td>1980</td>\n",
       "      <td>Good for Children</td>\n",
       "    </tr>\n",
       "    <tr>\n",
       "      <th>67</th>\n",
       "      <td>Danger Mouse</td>\n",
       "      <td>SHOW</td>\n",
       "      <td>1981</td>\n",
       "      <td>TV-Y</td>\n",
       "      <td>15</td>\n",
       "      <td>'comedy', 'family', 'scifi', 'animation', 'eur...</td>\n",
       "      <td>'GB'</td>\n",
       "      <td>10.0</td>\n",
       "      <td>tt0081848</td>\n",
       "      <td>7.4</td>\n",
       "      <td>3514.0</td>\n",
       "      <td>1980</td>\n",
       "      <td>Good for Children</td>\n",
       "    </tr>\n",
       "    <tr>\n",
       "      <th>107</th>\n",
       "      <td>Pokémon</td>\n",
       "      <td>SHOW</td>\n",
       "      <td>1997</td>\n",
       "      <td>TV-Y7</td>\n",
       "      <td>22</td>\n",
       "      <td>'scifi', 'action', 'comedy', 'fantasy', 'anima...</td>\n",
       "      <td>'JP'</td>\n",
       "      <td>24.0</td>\n",
       "      <td>tt0168366</td>\n",
       "      <td>7.6</td>\n",
       "      <td>172.0</td>\n",
       "      <td>1990</td>\n",
       "      <td>Good for Children</td>\n",
       "    </tr>\n",
       "    <tr>\n",
       "      <th>121</th>\n",
       "      <td>The Magic School Bus</td>\n",
       "      <td>SHOW</td>\n",
       "      <td>1994</td>\n",
       "      <td>TV-Y</td>\n",
       "      <td>26</td>\n",
       "      <td>'scifi', 'comedy', 'family', 'fantasy', 'anima...</td>\n",
       "      <td>'US', 'CA'</td>\n",
       "      <td>4.0</td>\n",
       "      <td>tt0108847</td>\n",
       "      <td>7.8</td>\n",
       "      <td>9708.0</td>\n",
       "      <td>1990</td>\n",
       "      <td>Good for Children</td>\n",
       "    </tr>\n",
       "    <tr>\n",
       "      <th>...</th>\n",
       "      <td>...</td>\n",
       "      <td>...</td>\n",
       "      <td>...</td>\n",
       "      <td>...</td>\n",
       "      <td>...</td>\n",
       "      <td>...</td>\n",
       "      <td>...</td>\n",
       "      <td>...</td>\n",
       "      <td>...</td>\n",
       "      <td>...</td>\n",
       "      <td>...</td>\n",
       "      <td>...</td>\n",
       "      <td>...</td>\n",
       "    </tr>\n",
       "    <tr>\n",
       "      <th>5510</th>\n",
       "      <td>Karma's World</td>\n",
       "      <td>SHOW</td>\n",
       "      <td>2021</td>\n",
       "      <td>TV-Y</td>\n",
       "      <td>11</td>\n",
       "      <td>'animation', 'comedy', 'family'</td>\n",
       "      <td>'US'</td>\n",
       "      <td>2.0</td>\n",
       "      <td>tt13321232</td>\n",
       "      <td>6.2</td>\n",
       "      <td>134.0</td>\n",
       "      <td>2020</td>\n",
       "      <td>Good for Children</td>\n",
       "    </tr>\n",
       "    <tr>\n",
       "      <th>5546</th>\n",
       "      <td>We the People</td>\n",
       "      <td>SHOW</td>\n",
       "      <td>2021</td>\n",
       "      <td>TV-Y7</td>\n",
       "      <td>5</td>\n",
       "      <td>'family', 'music', 'animation', 'comedy'</td>\n",
       "      <td>'US'</td>\n",
       "      <td>1.0</td>\n",
       "      <td>tt14770480</td>\n",
       "      <td>3.4</td>\n",
       "      <td>674.0</td>\n",
       "      <td>2020</td>\n",
       "      <td>Good for Children</td>\n",
       "    </tr>\n",
       "    <tr>\n",
       "      <th>5586</th>\n",
       "      <td>The New Adventures of Oggy</td>\n",
       "      <td>SHOW</td>\n",
       "      <td>2021</td>\n",
       "      <td>TV-Y</td>\n",
       "      <td>15</td>\n",
       "      <td>'comedy', 'family', 'action', 'animation'</td>\n",
       "      <td>'US'</td>\n",
       "      <td>1.0</td>\n",
       "      <td>tt11194006</td>\n",
       "      <td>6.6</td>\n",
       "      <td>38.0</td>\n",
       "      <td>2020</td>\n",
       "      <td>Good for Children</td>\n",
       "    </tr>\n",
       "    <tr>\n",
       "      <th>5604</th>\n",
       "      <td>I Heart Arlo</td>\n",
       "      <td>SHOW</td>\n",
       "      <td>2021</td>\n",
       "      <td>TV-Y7</td>\n",
       "      <td>15</td>\n",
       "      <td>'comedy', 'family', 'animation'</td>\n",
       "      <td>'US'</td>\n",
       "      <td>1.0</td>\n",
       "      <td>tt13573450</td>\n",
       "      <td>7.0</td>\n",
       "      <td>204.0</td>\n",
       "      <td>2020</td>\n",
       "      <td>Good for Children</td>\n",
       "    </tr>\n",
       "    <tr>\n",
       "      <th>5695</th>\n",
       "      <td>Team Zenko Go</td>\n",
       "      <td>SHOW</td>\n",
       "      <td>2022</td>\n",
       "      <td>TV-Y</td>\n",
       "      <td>20</td>\n",
       "      <td>'action', 'animation', 'family'</td>\n",
       "      <td>'US'</td>\n",
       "      <td>1.0</td>\n",
       "      <td>tt18274176</td>\n",
       "      <td>7.2</td>\n",
       "      <td>21.0</td>\n",
       "      <td>2020</td>\n",
       "      <td>Good for Children</td>\n",
       "    </tr>\n",
       "  </tbody>\n",
       "</table>\n",
       "<p>200 rows × 13 columns</p>\n",
       "</div>"
      ],
      "text/plain": [
       "                           title  type  release_year age_certification  \\\n",
       "57              Thomas & Friends  SHOW          1984              TV-Y   \n",
       "66                   Fireman Sam  SHOW          1987              TV-Y   \n",
       "67                  Danger Mouse  SHOW          1981              TV-Y   \n",
       "107                      Pokémon  SHOW          1997             TV-Y7   \n",
       "121         The Magic School Bus  SHOW          1994              TV-Y   \n",
       "...                          ...   ...           ...               ...   \n",
       "5510               Karma's World  SHOW          2021              TV-Y   \n",
       "5546               We the People  SHOW          2021             TV-Y7   \n",
       "5586  The New Adventures of Oggy  SHOW          2021              TV-Y   \n",
       "5604                I Heart Arlo  SHOW          2021             TV-Y7   \n",
       "5695               Team Zenko Go  SHOW          2022              TV-Y   \n",
       "\n",
       "      runtime                                             genres  \\\n",
       "57         10  'family', 'comedy', 'music', 'action', 'animat...   \n",
       "66         10  'comedy', 'animation', 'family', 'crime', 'eur...   \n",
       "67         15  'comedy', 'family', 'scifi', 'animation', 'eur...   \n",
       "107        22  'scifi', 'action', 'comedy', 'fantasy', 'anima...   \n",
       "121        26  'scifi', 'comedy', 'family', 'fantasy', 'anima...   \n",
       "...       ...                                                ...   \n",
       "5510       11                    'animation', 'comedy', 'family'   \n",
       "5546        5           'family', 'music', 'animation', 'comedy'   \n",
       "5586       15          'comedy', 'family', 'action', 'animation'   \n",
       "5604       15                    'comedy', 'family', 'animation'   \n",
       "5695       20                    'action', 'animation', 'family'   \n",
       "\n",
       "     production_countries  seasons     imdb_id  imdb_score  imdb_votes  \\\n",
       "57                   'GB'     24.0   tt0086815         6.5      4948.0   \n",
       "66                   'GB'     13.0   tt0329829         6.1      1759.0   \n",
       "67                   'GB'     10.0   tt0081848         7.4      3514.0   \n",
       "107                  'JP'     24.0   tt0168366         7.6       172.0   \n",
       "121            'US', 'CA'      4.0   tt0108847         7.8      9708.0   \n",
       "...                   ...      ...         ...         ...         ...   \n",
       "5510                 'US'      2.0  tt13321232         6.2       134.0   \n",
       "5546                 'US'      1.0  tt14770480         3.4       674.0   \n",
       "5586                 'US'      1.0  tt11194006         6.6        38.0   \n",
       "5604                 'US'      1.0  tt13573450         7.0       204.0   \n",
       "5695                 'US'      1.0  tt18274176         7.2        21.0   \n",
       "\n",
       "      decade  age_group_ratings  \n",
       "57      1980  Good for Children  \n",
       "66      1980  Good for Children  \n",
       "67      1980  Good for Children  \n",
       "107     1990  Good for Children  \n",
       "121     1990  Good for Children  \n",
       "...      ...                ...  \n",
       "5510    2020  Good for Children  \n",
       "5546    2020  Good for Children  \n",
       "5586    2020  Good for Children  \n",
       "5604    2020  Good for Children  \n",
       "5695    2020  Good for Children  \n",
       "\n",
       "[200 rows x 13 columns]"
      ]
     },
     "execution_count": 33,
     "metadata": {},
     "output_type": "execute_result"
    }
   ],
   "source": [
    "children_movies_df[children_movies_df.genres.str.contains('animation')]"
   ]
  },
  {
   "cell_type": "code",
   "execution_count": 34,
   "id": "8ecbc3c3",
   "metadata": {},
   "outputs": [
    {
     "data": {
      "text/html": [
       "<div>\n",
       "<style scoped>\n",
       "    .dataframe tbody tr th:only-of-type {\n",
       "        vertical-align: middle;\n",
       "    }\n",
       "\n",
       "    .dataframe tbody tr th {\n",
       "        vertical-align: top;\n",
       "    }\n",
       "\n",
       "    .dataframe thead th {\n",
       "        text-align: right;\n",
       "    }\n",
       "</style>\n",
       "<table border=\"1\" class=\"dataframe\">\n",
       "  <thead>\n",
       "    <tr style=\"text-align: right;\">\n",
       "      <th></th>\n",
       "      <th>title</th>\n",
       "      <th>type</th>\n",
       "      <th>release_year</th>\n",
       "      <th>age_certification</th>\n",
       "      <th>runtime</th>\n",
       "      <th>genres</th>\n",
       "      <th>production_countries</th>\n",
       "      <th>seasons</th>\n",
       "      <th>imdb_id</th>\n",
       "      <th>imdb_score</th>\n",
       "      <th>imdb_votes</th>\n",
       "      <th>decade</th>\n",
       "      <th>age_group_ratings</th>\n",
       "    </tr>\n",
       "  </thead>\n",
       "  <tbody>\n",
       "    <tr>\n",
       "      <th>1</th>\n",
       "      <td>Taxi Driver</td>\n",
       "      <td>MOVIE</td>\n",
       "      <td>1976</td>\n",
       "      <td>R</td>\n",
       "      <td>113</td>\n",
       "      <td>'crime', 'drama'</td>\n",
       "      <td>'US'</td>\n",
       "      <td>NaN</td>\n",
       "      <td>tt0075314</td>\n",
       "      <td>8.3</td>\n",
       "      <td>795222.0</td>\n",
       "      <td>1970</td>\n",
       "      <td>Adult</td>\n",
       "    </tr>\n",
       "    <tr>\n",
       "      <th>2</th>\n",
       "      <td>Monty Python and the Holy Grail</td>\n",
       "      <td>MOVIE</td>\n",
       "      <td>1975</td>\n",
       "      <td>PG</td>\n",
       "      <td>91</td>\n",
       "      <td>'comedy', 'fantasy'</td>\n",
       "      <td>'GB'</td>\n",
       "      <td>NaN</td>\n",
       "      <td>tt0071853</td>\n",
       "      <td>8.2</td>\n",
       "      <td>530877.0</td>\n",
       "      <td>1970</td>\n",
       "      <td>Requires Supervision</td>\n",
       "    </tr>\n",
       "    <tr>\n",
       "      <th>3</th>\n",
       "      <td>Life of Brian</td>\n",
       "      <td>MOVIE</td>\n",
       "      <td>1979</td>\n",
       "      <td>R</td>\n",
       "      <td>94</td>\n",
       "      <td>'comedy'</td>\n",
       "      <td>'GB'</td>\n",
       "      <td>NaN</td>\n",
       "      <td>tt0079470</td>\n",
       "      <td>8.0</td>\n",
       "      <td>392419.0</td>\n",
       "      <td>1970</td>\n",
       "      <td>Adult</td>\n",
       "    </tr>\n",
       "    <tr>\n",
       "      <th>4</th>\n",
       "      <td>The Exorcist</td>\n",
       "      <td>MOVIE</td>\n",
       "      <td>1973</td>\n",
       "      <td>R</td>\n",
       "      <td>133</td>\n",
       "      <td>'horror'</td>\n",
       "      <td>'US'</td>\n",
       "      <td>NaN</td>\n",
       "      <td>tt0070047</td>\n",
       "      <td>8.1</td>\n",
       "      <td>391942.0</td>\n",
       "      <td>1970</td>\n",
       "      <td>Adult</td>\n",
       "    </tr>\n",
       "    <tr>\n",
       "      <th>5</th>\n",
       "      <td>Monty Python's Flying Circus</td>\n",
       "      <td>SHOW</td>\n",
       "      <td>1969</td>\n",
       "      <td>TV-14</td>\n",
       "      <td>30</td>\n",
       "      <td>'comedy', 'european'</td>\n",
       "      <td>'GB'</td>\n",
       "      <td>4.0</td>\n",
       "      <td>tt0063929</td>\n",
       "      <td>8.8</td>\n",
       "      <td>72895.0</td>\n",
       "      <td>1960</td>\n",
       "      <td>Requires Supervision</td>\n",
       "    </tr>\n",
       "  </tbody>\n",
       "</table>\n",
       "</div>"
      ],
      "text/plain": [
       "                             title   type  release_year age_certification  \\\n",
       "1                      Taxi Driver  MOVIE          1976                 R   \n",
       "2  Monty Python and the Holy Grail  MOVIE          1975                PG   \n",
       "3                    Life of Brian  MOVIE          1979                 R   \n",
       "4                     The Exorcist  MOVIE          1973                 R   \n",
       "5     Monty Python's Flying Circus   SHOW          1969             TV-14   \n",
       "\n",
       "   runtime                genres production_countries  seasons    imdb_id  \\\n",
       "1      113      'crime', 'drama'                 'US'      NaN  tt0075314   \n",
       "2       91   'comedy', 'fantasy'                 'GB'      NaN  tt0071853   \n",
       "3       94              'comedy'                 'GB'      NaN  tt0079470   \n",
       "4      133              'horror'                 'US'      NaN  tt0070047   \n",
       "5       30  'comedy', 'european'                 'GB'      4.0  tt0063929   \n",
       "\n",
       "   imdb_score  imdb_votes  decade     age_group_ratings  \n",
       "1         8.3    795222.0    1970                 Adult  \n",
       "2         8.2    530877.0    1970  Requires Supervision  \n",
       "3         8.0    392419.0    1970                 Adult  \n",
       "4         8.1    391942.0    1970                 Adult  \n",
       "5         8.8     72895.0    1960  Requires Supervision  "
      ]
     },
     "execution_count": 34,
     "metadata": {},
     "output_type": "execute_result"
    }
   ],
   "source": [
    "df.head()"
   ]
  },
  {
   "cell_type": "markdown",
   "id": "5c8ebfd8",
   "metadata": {},
   "source": [
    "1. Find the number of movies released in each decade from 1945 , show a line chart to display this"
   ]
  },
  {
   "cell_type": "code",
   "execution_count": 35,
   "id": "1afa6917",
   "metadata": {
    "scrolled": true
   },
   "outputs": [
    {
     "data": {
      "text/plain": [
       "title                    object\n",
       "type                     object\n",
       "release_year              int64\n",
       "age_certification        object\n",
       "runtime                   int64\n",
       "genres                   object\n",
       "production_countries     object\n",
       "seasons                 float64\n",
       "imdb_id                  object\n",
       "imdb_score              float64\n",
       "imdb_votes              float64\n",
       "decade                    int64\n",
       "age_group_ratings        object\n",
       "dtype: object"
      ]
     },
     "execution_count": 35,
     "metadata": {},
     "output_type": "execute_result"
    }
   ],
   "source": [
    "df.dtypes"
   ]
  },
  {
   "cell_type": "code",
   "execution_count": 36,
   "id": "77667e93",
   "metadata": {},
   "outputs": [],
   "source": [
    "children_movies = df[\"age_group_ratings\"] == \"Good For Children\""
   ]
  },
  {
   "cell_type": "code",
   "execution_count": null,
   "id": "0913ca9e",
   "metadata": {},
   "outputs": [],
   "source": []
  },
  {
   "cell_type": "code",
   "execution_count": 37,
   "id": "657c0c17",
   "metadata": {},
   "outputs": [],
   "source": [
    "children_movies_df = df[df['age_group_ratings'] == 'Good for Children']\n"
   ]
  },
  {
   "cell_type": "code",
   "execution_count": 38,
   "id": "f6feab90",
   "metadata": {},
   "outputs": [
    {
     "data": {
      "text/html": [
       "<div>\n",
       "<style scoped>\n",
       "    .dataframe tbody tr th:only-of-type {\n",
       "        vertical-align: middle;\n",
       "    }\n",
       "\n",
       "    .dataframe tbody tr th {\n",
       "        vertical-align: top;\n",
       "    }\n",
       "\n",
       "    .dataframe thead th {\n",
       "        text-align: right;\n",
       "    }\n",
       "</style>\n",
       "<table border=\"1\" class=\"dataframe\">\n",
       "  <thead>\n",
       "    <tr style=\"text-align: right;\">\n",
       "      <th></th>\n",
       "      <th>title</th>\n",
       "      <th>type</th>\n",
       "      <th>release_year</th>\n",
       "      <th>age_certification</th>\n",
       "      <th>runtime</th>\n",
       "      <th>genres</th>\n",
       "      <th>production_countries</th>\n",
       "      <th>seasons</th>\n",
       "      <th>imdb_id</th>\n",
       "      <th>imdb_score</th>\n",
       "      <th>imdb_votes</th>\n",
       "      <th>decade</th>\n",
       "      <th>age_group_ratings</th>\n",
       "    </tr>\n",
       "  </thead>\n",
       "  <tbody>\n",
       "    <tr>\n",
       "      <th>57</th>\n",
       "      <td>Thomas &amp; Friends</td>\n",
       "      <td>SHOW</td>\n",
       "      <td>1984</td>\n",
       "      <td>TV-Y</td>\n",
       "      <td>10</td>\n",
       "      <td>'family', 'comedy', 'music', 'action', 'animat...</td>\n",
       "      <td>'GB'</td>\n",
       "      <td>24.0</td>\n",
       "      <td>tt0086815</td>\n",
       "      <td>6.5</td>\n",
       "      <td>4948.0</td>\n",
       "      <td>1980</td>\n",
       "      <td>Good for Children</td>\n",
       "    </tr>\n",
       "    <tr>\n",
       "      <th>60</th>\n",
       "      <td>Saved by the Bell</td>\n",
       "      <td>SHOW</td>\n",
       "      <td>1989</td>\n",
       "      <td>TV-G</td>\n",
       "      <td>23</td>\n",
       "      <td>'comedy', 'romance', 'family'</td>\n",
       "      <td>'US'</td>\n",
       "      <td>5.0</td>\n",
       "      <td>tt0096694</td>\n",
       "      <td>7.1</td>\n",
       "      <td>34854.0</td>\n",
       "      <td>1980</td>\n",
       "      <td>Good for Children</td>\n",
       "    </tr>\n",
       "    <tr>\n",
       "      <th>64</th>\n",
       "      <td>Wheel of Fortune</td>\n",
       "      <td>SHOW</td>\n",
       "      <td>1983</td>\n",
       "      <td>TV-G</td>\n",
       "      <td>26</td>\n",
       "      <td>'family'</td>\n",
       "      <td>'US'</td>\n",
       "      <td>39.0</td>\n",
       "      <td>tt0072584</td>\n",
       "      <td>6.7</td>\n",
       "      <td>3126.0</td>\n",
       "      <td>1980</td>\n",
       "      <td>Good for Children</td>\n",
       "    </tr>\n",
       "    <tr>\n",
       "      <th>66</th>\n",
       "      <td>Fireman Sam</td>\n",
       "      <td>SHOW</td>\n",
       "      <td>1987</td>\n",
       "      <td>TV-Y</td>\n",
       "      <td>10</td>\n",
       "      <td>'comedy', 'animation', 'family', 'crime', 'eur...</td>\n",
       "      <td>'GB'</td>\n",
       "      <td>13.0</td>\n",
       "      <td>tt0329829</td>\n",
       "      <td>6.1</td>\n",
       "      <td>1759.0</td>\n",
       "      <td>1980</td>\n",
       "      <td>Good for Children</td>\n",
       "    </tr>\n",
       "    <tr>\n",
       "      <th>67</th>\n",
       "      <td>Danger Mouse</td>\n",
       "      <td>SHOW</td>\n",
       "      <td>1981</td>\n",
       "      <td>TV-Y</td>\n",
       "      <td>15</td>\n",
       "      <td>'comedy', 'family', 'scifi', 'animation', 'eur...</td>\n",
       "      <td>'GB'</td>\n",
       "      <td>10.0</td>\n",
       "      <td>tt0081848</td>\n",
       "      <td>7.4</td>\n",
       "      <td>3514.0</td>\n",
       "      <td>1980</td>\n",
       "      <td>Good for Children</td>\n",
       "    </tr>\n",
       "    <tr>\n",
       "      <th>...</th>\n",
       "      <td>...</td>\n",
       "      <td>...</td>\n",
       "      <td>...</td>\n",
       "      <td>...</td>\n",
       "      <td>...</td>\n",
       "      <td>...</td>\n",
       "      <td>...</td>\n",
       "      <td>...</td>\n",
       "      <td>...</td>\n",
       "      <td>...</td>\n",
       "      <td>...</td>\n",
       "      <td>...</td>\n",
       "      <td>...</td>\n",
       "    </tr>\n",
       "    <tr>\n",
       "      <th>5550</th>\n",
       "      <td>Marriage or Mortgage</td>\n",
       "      <td>SHOW</td>\n",
       "      <td>2021</td>\n",
       "      <td>TV-G</td>\n",
       "      <td>40</td>\n",
       "      <td>'reality'</td>\n",
       "      <td>'US'</td>\n",
       "      <td>1.0</td>\n",
       "      <td>tt14037542</td>\n",
       "      <td>5.1</td>\n",
       "      <td>433.0</td>\n",
       "      <td>2020</td>\n",
       "      <td>Good for Children</td>\n",
       "    </tr>\n",
       "    <tr>\n",
       "      <th>5586</th>\n",
       "      <td>The New Adventures of Oggy</td>\n",
       "      <td>SHOW</td>\n",
       "      <td>2021</td>\n",
       "      <td>TV-Y</td>\n",
       "      <td>15</td>\n",
       "      <td>'comedy', 'family', 'action', 'animation'</td>\n",
       "      <td>'US'</td>\n",
       "      <td>1.0</td>\n",
       "      <td>tt11194006</td>\n",
       "      <td>6.6</td>\n",
       "      <td>38.0</td>\n",
       "      <td>2020</td>\n",
       "      <td>Good for Children</td>\n",
       "    </tr>\n",
       "    <tr>\n",
       "      <th>5604</th>\n",
       "      <td>I Heart Arlo</td>\n",
       "      <td>SHOW</td>\n",
       "      <td>2021</td>\n",
       "      <td>TV-Y7</td>\n",
       "      <td>15</td>\n",
       "      <td>'comedy', 'family', 'animation'</td>\n",
       "      <td>'US'</td>\n",
       "      <td>1.0</td>\n",
       "      <td>tt13573450</td>\n",
       "      <td>7.0</td>\n",
       "      <td>204.0</td>\n",
       "      <td>2020</td>\n",
       "      <td>Good for Children</td>\n",
       "    </tr>\n",
       "    <tr>\n",
       "      <th>5695</th>\n",
       "      <td>Team Zenko Go</td>\n",
       "      <td>SHOW</td>\n",
       "      <td>2022</td>\n",
       "      <td>TV-Y</td>\n",
       "      <td>20</td>\n",
       "      <td>'action', 'animation', 'family'</td>\n",
       "      <td>'US'</td>\n",
       "      <td>1.0</td>\n",
       "      <td>tt18274176</td>\n",
       "      <td>7.2</td>\n",
       "      <td>21.0</td>\n",
       "      <td>2020</td>\n",
       "      <td>Good for Children</td>\n",
       "    </tr>\n",
       "    <tr>\n",
       "      <th>5765</th>\n",
       "      <td>Barbie: It Takes Two</td>\n",
       "      <td>SHOW</td>\n",
       "      <td>2022</td>\n",
       "      <td>TV-Y</td>\n",
       "      <td>22</td>\n",
       "      <td></td>\n",
       "      <td>'US'</td>\n",
       "      <td>1.0</td>\n",
       "      <td>tt19178656</td>\n",
       "      <td>NaN</td>\n",
       "      <td>NaN</td>\n",
       "      <td>2020</td>\n",
       "      <td>Good for Children</td>\n",
       "    </tr>\n",
       "  </tbody>\n",
       "</table>\n",
       "<p>274 rows × 13 columns</p>\n",
       "</div>"
      ],
      "text/plain": [
       "                           title  type  release_year age_certification  \\\n",
       "57              Thomas & Friends  SHOW          1984              TV-Y   \n",
       "60             Saved by the Bell  SHOW          1989              TV-G   \n",
       "64              Wheel of Fortune  SHOW          1983              TV-G   \n",
       "66                   Fireman Sam  SHOW          1987              TV-Y   \n",
       "67                  Danger Mouse  SHOW          1981              TV-Y   \n",
       "...                          ...   ...           ...               ...   \n",
       "5550        Marriage or Mortgage  SHOW          2021              TV-G   \n",
       "5586  The New Adventures of Oggy  SHOW          2021              TV-Y   \n",
       "5604                I Heart Arlo  SHOW          2021             TV-Y7   \n",
       "5695               Team Zenko Go  SHOW          2022              TV-Y   \n",
       "5765        Barbie: It Takes Two  SHOW          2022              TV-Y   \n",
       "\n",
       "      runtime                                             genres  \\\n",
       "57         10  'family', 'comedy', 'music', 'action', 'animat...   \n",
       "60         23                      'comedy', 'romance', 'family'   \n",
       "64         26                                           'family'   \n",
       "66         10  'comedy', 'animation', 'family', 'crime', 'eur...   \n",
       "67         15  'comedy', 'family', 'scifi', 'animation', 'eur...   \n",
       "...       ...                                                ...   \n",
       "5550       40                                          'reality'   \n",
       "5586       15          'comedy', 'family', 'action', 'animation'   \n",
       "5604       15                    'comedy', 'family', 'animation'   \n",
       "5695       20                    'action', 'animation', 'family'   \n",
       "5765       22                                                      \n",
       "\n",
       "     production_countries  seasons     imdb_id  imdb_score  imdb_votes  \\\n",
       "57                   'GB'     24.0   tt0086815         6.5      4948.0   \n",
       "60                   'US'      5.0   tt0096694         7.1     34854.0   \n",
       "64                   'US'     39.0   tt0072584         6.7      3126.0   \n",
       "66                   'GB'     13.0   tt0329829         6.1      1759.0   \n",
       "67                   'GB'     10.0   tt0081848         7.4      3514.0   \n",
       "...                   ...      ...         ...         ...         ...   \n",
       "5550                 'US'      1.0  tt14037542         5.1       433.0   \n",
       "5586                 'US'      1.0  tt11194006         6.6        38.0   \n",
       "5604                 'US'      1.0  tt13573450         7.0       204.0   \n",
       "5695                 'US'      1.0  tt18274176         7.2        21.0   \n",
       "5765                 'US'      1.0  tt19178656         NaN         NaN   \n",
       "\n",
       "      decade  age_group_ratings  \n",
       "57      1980  Good for Children  \n",
       "60      1980  Good for Children  \n",
       "64      1980  Good for Children  \n",
       "66      1980  Good for Children  \n",
       "67      1980  Good for Children  \n",
       "...      ...                ...  \n",
       "5550    2020  Good for Children  \n",
       "5586    2020  Good for Children  \n",
       "5604    2020  Good for Children  \n",
       "5695    2020  Good for Children  \n",
       "5765    2020  Good for Children  \n",
       "\n",
       "[274 rows x 13 columns]"
      ]
     },
     "execution_count": 38,
     "metadata": {},
     "output_type": "execute_result"
    }
   ],
   "source": [
    "children_movies_df"
   ]
  },
  {
   "cell_type": "code",
   "execution_count": 39,
   "id": "32f6b61b",
   "metadata": {},
   "outputs": [],
   "source": []
  },
  {
   "cell_type": "code",
   "execution_count": null,
   "id": "eaa56474",
   "metadata": {
    "scrolled": true
   },
   "outputs": [],
   "source": []
  },
  {
   "cell_type": "code",
   "execution_count": null,
   "id": "bcb8eef4",
   "metadata": {},
   "outputs": [],
   "source": []
  },
  {
   "cell_type": "code",
   "execution_count": null,
   "id": "05c7b61c",
   "metadata": {
    "scrolled": true
   },
   "outputs": [],
   "source": []
  },
  {
   "cell_type": "code",
   "execution_count": null,
   "id": "f477bc88",
   "metadata": {},
   "outputs": [],
   "source": []
  },
  {
   "cell_type": "code",
   "execution_count": null,
   "id": "6ef9f3b1",
   "metadata": {},
   "outputs": [],
   "source": []
  }
 ],
 "metadata": {
  "kernelspec": {
   "display_name": "Python 3 (ipykernel)",
   "language": "python",
   "name": "python3"
  },
  "language_info": {
   "codemirror_mode": {
    "name": "ipython",
    "version": 3
   },
   "file_extension": ".py",
   "mimetype": "text/x-python",
   "name": "python",
   "nbconvert_exporter": "python",
   "pygments_lexer": "ipython3",
   "version": "3.11.5"
  }
 },
 "nbformat": 4,
 "nbformat_minor": 5
}
