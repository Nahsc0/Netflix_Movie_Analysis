{
 "cells": [
  {
   "cell_type": "code",
   "execution_count": 1,
   "id": "88379ba5",
   "metadata": {},
   "outputs": [],
   "source": [
    "import pandas as pd\n",
    "import numpy as np\n",
    "import matplotlib.pyplot as plt\n",
    "import seaborn as sns\n",
    "\n",
    "#display all columns of the dataframe\n",
    "pd.pandas.set_option('display.max_columns', None)"
   ]
  },
  {
   "cell_type": "code",
   "execution_count": 2,
   "id": "9693bd85",
   "metadata": {},
   "outputs": [],
   "source": [
    "df = pd.read_csv('imdb_movies_shows.csv')"
   ]
  },
  {
   "cell_type": "code",
   "execution_count": 3,
   "id": "35edc9c1",
   "metadata": {},
   "outputs": [
    {
     "data": {
      "text/html": [
       "<div>\n",
       "<style scoped>\n",
       "    .dataframe tbody tr th:only-of-type {\n",
       "        vertical-align: middle;\n",
       "    }\n",
       "\n",
       "    .dataframe tbody tr th {\n",
       "        vertical-align: top;\n",
       "    }\n",
       "\n",
       "    .dataframe thead th {\n",
       "        text-align: right;\n",
       "    }\n",
       "</style>\n",
       "<table border=\"1\" class=\"dataframe\">\n",
       "  <thead>\n",
       "    <tr style=\"text-align: right;\">\n",
       "      <th></th>\n",
       "      <th>title</th>\n",
       "      <th>type</th>\n",
       "      <th>release_year</th>\n",
       "      <th>age_certification</th>\n",
       "      <th>runtime</th>\n",
       "      <th>genres</th>\n",
       "      <th>production_countries</th>\n",
       "      <th>seasons</th>\n",
       "      <th>imdb_id</th>\n",
       "      <th>imdb_score</th>\n",
       "      <th>imdb_votes</th>\n",
       "    </tr>\n",
       "  </thead>\n",
       "  <tbody>\n",
       "    <tr>\n",
       "      <th>0</th>\n",
       "      <td>Five Came Back: The Reference Films</td>\n",
       "      <td>SHOW</td>\n",
       "      <td>1945</td>\n",
       "      <td>TV-MA</td>\n",
       "      <td>48</td>\n",
       "      <td>['documentation']</td>\n",
       "      <td>['US']</td>\n",
       "      <td>1.0</td>\n",
       "      <td>NaN</td>\n",
       "      <td>NaN</td>\n",
       "      <td>NaN</td>\n",
       "    </tr>\n",
       "    <tr>\n",
       "      <th>1</th>\n",
       "      <td>Taxi Driver</td>\n",
       "      <td>MOVIE</td>\n",
       "      <td>1976</td>\n",
       "      <td>R</td>\n",
       "      <td>113</td>\n",
       "      <td>['crime', 'drama']</td>\n",
       "      <td>['US']</td>\n",
       "      <td>NaN</td>\n",
       "      <td>tt0075314</td>\n",
       "      <td>8.3</td>\n",
       "      <td>795222.0</td>\n",
       "    </tr>\n",
       "    <tr>\n",
       "      <th>2</th>\n",
       "      <td>Monty Python and the Holy Grail</td>\n",
       "      <td>MOVIE</td>\n",
       "      <td>1975</td>\n",
       "      <td>PG</td>\n",
       "      <td>91</td>\n",
       "      <td>['comedy', 'fantasy']</td>\n",
       "      <td>['GB']</td>\n",
       "      <td>NaN</td>\n",
       "      <td>tt0071853</td>\n",
       "      <td>8.2</td>\n",
       "      <td>530877.0</td>\n",
       "    </tr>\n",
       "    <tr>\n",
       "      <th>3</th>\n",
       "      <td>Life of Brian</td>\n",
       "      <td>MOVIE</td>\n",
       "      <td>1979</td>\n",
       "      <td>R</td>\n",
       "      <td>94</td>\n",
       "      <td>['comedy']</td>\n",
       "      <td>['GB']</td>\n",
       "      <td>NaN</td>\n",
       "      <td>tt0079470</td>\n",
       "      <td>8.0</td>\n",
       "      <td>392419.0</td>\n",
       "    </tr>\n",
       "    <tr>\n",
       "      <th>4</th>\n",
       "      <td>The Exorcist</td>\n",
       "      <td>MOVIE</td>\n",
       "      <td>1973</td>\n",
       "      <td>R</td>\n",
       "      <td>133</td>\n",
       "      <td>['horror']</td>\n",
       "      <td>['US']</td>\n",
       "      <td>NaN</td>\n",
       "      <td>tt0070047</td>\n",
       "      <td>8.1</td>\n",
       "      <td>391942.0</td>\n",
       "    </tr>\n",
       "    <tr>\n",
       "      <th>...</th>\n",
       "      <td>...</td>\n",
       "      <td>...</td>\n",
       "      <td>...</td>\n",
       "      <td>...</td>\n",
       "      <td>...</td>\n",
       "      <td>...</td>\n",
       "      <td>...</td>\n",
       "      <td>...</td>\n",
       "      <td>...</td>\n",
       "      <td>...</td>\n",
       "      <td>...</td>\n",
       "    </tr>\n",
       "    <tr>\n",
       "      <th>5801</th>\n",
       "      <td>Fine Wine</td>\n",
       "      <td>MOVIE</td>\n",
       "      <td>2021</td>\n",
       "      <td>NaN</td>\n",
       "      <td>100</td>\n",
       "      <td>['romance', 'drama']</td>\n",
       "      <td>['NG']</td>\n",
       "      <td>NaN</td>\n",
       "      <td>tt13857480</td>\n",
       "      <td>6.9</td>\n",
       "      <td>39.0</td>\n",
       "    </tr>\n",
       "    <tr>\n",
       "      <th>5802</th>\n",
       "      <td>Edis Starlight</td>\n",
       "      <td>MOVIE</td>\n",
       "      <td>2021</td>\n",
       "      <td>NaN</td>\n",
       "      <td>74</td>\n",
       "      <td>['music', 'documentation']</td>\n",
       "      <td>[]</td>\n",
       "      <td>NaN</td>\n",
       "      <td>NaN</td>\n",
       "      <td>NaN</td>\n",
       "      <td>NaN</td>\n",
       "    </tr>\n",
       "    <tr>\n",
       "      <th>5803</th>\n",
       "      <td>Clash</td>\n",
       "      <td>MOVIE</td>\n",
       "      <td>2021</td>\n",
       "      <td>NaN</td>\n",
       "      <td>88</td>\n",
       "      <td>['family', 'drama']</td>\n",
       "      <td>['NG', 'CA']</td>\n",
       "      <td>NaN</td>\n",
       "      <td>tt14620732</td>\n",
       "      <td>6.5</td>\n",
       "      <td>32.0</td>\n",
       "    </tr>\n",
       "    <tr>\n",
       "      <th>5804</th>\n",
       "      <td>Shadow Parties</td>\n",
       "      <td>MOVIE</td>\n",
       "      <td>2021</td>\n",
       "      <td>NaN</td>\n",
       "      <td>116</td>\n",
       "      <td>['action', 'thriller']</td>\n",
       "      <td>[]</td>\n",
       "      <td>NaN</td>\n",
       "      <td>tt10168094</td>\n",
       "      <td>6.2</td>\n",
       "      <td>9.0</td>\n",
       "    </tr>\n",
       "    <tr>\n",
       "      <th>5805</th>\n",
       "      <td>Mighty Little Bheem: Kite Festival</td>\n",
       "      <td>SHOW</td>\n",
       "      <td>2021</td>\n",
       "      <td>NaN</td>\n",
       "      <td>0</td>\n",
       "      <td>['family', 'comedy', 'animation']</td>\n",
       "      <td>[]</td>\n",
       "      <td>1.0</td>\n",
       "      <td>tt13711094</td>\n",
       "      <td>8.8</td>\n",
       "      <td>16.0</td>\n",
       "    </tr>\n",
       "  </tbody>\n",
       "</table>\n",
       "<p>5806 rows × 11 columns</p>\n",
       "</div>"
      ],
      "text/plain": [
       "                                    title   type  release_year  \\\n",
       "0     Five Came Back: The Reference Films   SHOW          1945   \n",
       "1                             Taxi Driver  MOVIE          1976   \n",
       "2         Monty Python and the Holy Grail  MOVIE          1975   \n",
       "3                           Life of Brian  MOVIE          1979   \n",
       "4                            The Exorcist  MOVIE          1973   \n",
       "...                                   ...    ...           ...   \n",
       "5801                            Fine Wine  MOVIE          2021   \n",
       "5802                       Edis Starlight  MOVIE          2021   \n",
       "5803                                Clash  MOVIE          2021   \n",
       "5804                       Shadow Parties  MOVIE          2021   \n",
       "5805   Mighty Little Bheem: Kite Festival   SHOW          2021   \n",
       "\n",
       "     age_certification  runtime                             genres  \\\n",
       "0                TV-MA       48                  ['documentation']   \n",
       "1                    R      113                 ['crime', 'drama']   \n",
       "2                   PG       91              ['comedy', 'fantasy']   \n",
       "3                    R       94                         ['comedy']   \n",
       "4                    R      133                         ['horror']   \n",
       "...                ...      ...                                ...   \n",
       "5801               NaN      100               ['romance', 'drama']   \n",
       "5802               NaN       74         ['music', 'documentation']   \n",
       "5803               NaN       88                ['family', 'drama']   \n",
       "5804               NaN      116             ['action', 'thriller']   \n",
       "5805               NaN        0  ['family', 'comedy', 'animation']   \n",
       "\n",
       "     production_countries  seasons     imdb_id  imdb_score  imdb_votes  \n",
       "0                  ['US']      1.0         NaN         NaN         NaN  \n",
       "1                  ['US']      NaN   tt0075314         8.3    795222.0  \n",
       "2                  ['GB']      NaN   tt0071853         8.2    530877.0  \n",
       "3                  ['GB']      NaN   tt0079470         8.0    392419.0  \n",
       "4                  ['US']      NaN   tt0070047         8.1    391942.0  \n",
       "...                   ...      ...         ...         ...         ...  \n",
       "5801               ['NG']      NaN  tt13857480         6.9        39.0  \n",
       "5802                   []      NaN         NaN         NaN         NaN  \n",
       "5803         ['NG', 'CA']      NaN  tt14620732         6.5        32.0  \n",
       "5804                   []      NaN  tt10168094         6.2         9.0  \n",
       "5805                   []      1.0  tt13711094         8.8        16.0  \n",
       "\n",
       "[5806 rows x 11 columns]"
      ]
     },
     "execution_count": 3,
     "metadata": {},
     "output_type": "execute_result"
    }
   ],
   "source": [
    "df"
   ]
  },
  {
   "cell_type": "code",
   "execution_count": 4,
   "id": "2453dd0e",
   "metadata": {},
   "outputs": [
    {
     "data": {
      "text/plain": [
       "title                      1\n",
       "type                       0\n",
       "release_year               0\n",
       "age_certification       2610\n",
       "runtime                    0\n",
       "genres                     0\n",
       "production_countries       0\n",
       "seasons                 3759\n",
       "imdb_id                  444\n",
       "imdb_score               523\n",
       "imdb_votes               539\n",
       "dtype: int64"
      ]
     },
     "execution_count": 4,
     "metadata": {},
     "output_type": "execute_result"
    }
   ],
   "source": [
    "df.isnull().sum()"
   ]
  },
  {
   "cell_type": "code",
   "execution_count": 5,
   "id": "79d5dcff",
   "metadata": {},
   "outputs": [
    {
     "name": "stdout",
     "output_type": "stream",
     "text": [
      "<class 'pandas.core.frame.DataFrame'>\n",
      "RangeIndex: 5806 entries, 0 to 5805\n",
      "Data columns (total 11 columns):\n",
      " #   Column                Non-Null Count  Dtype  \n",
      "---  ------                --------------  -----  \n",
      " 0   title                 5805 non-null   object \n",
      " 1   type                  5806 non-null   object \n",
      " 2   release_year          5806 non-null   int64  \n",
      " 3   age_certification     3196 non-null   object \n",
      " 4   runtime               5806 non-null   int64  \n",
      " 5   genres                5806 non-null   object \n",
      " 6   production_countries  5806 non-null   object \n",
      " 7   seasons               2047 non-null   float64\n",
      " 8   imdb_id               5362 non-null   object \n",
      " 9   imdb_score            5283 non-null   float64\n",
      " 10  imdb_votes            5267 non-null   float64\n",
      "dtypes: float64(3), int64(2), object(6)\n",
      "memory usage: 499.1+ KB\n"
     ]
    }
   ],
   "source": [
    "df.info()"
   ]
  },
  {
   "cell_type": "code",
   "execution_count": 6,
   "id": "a03bc674",
   "metadata": {},
   "outputs": [
    {
     "data": {
      "image/png": "[encoded data removed]",
      "text/plain": [
       "<Figure size 1000x600 with 1 Axes>"
      ]
     },
     "metadata": {},
     "output_type": "display_data"
    }
   ],
   "source": [
    "import matplotlib.pyplot as plt\n",
    "\n",
    "# Filter out the movies\n",
    "movies = df[df['type'] == 'MOVIE']\n",
    "\n",
    "# Group by 'release_year' and count the number of movies for each year\n",
    "yearly_movies = movies['release_year'].value_counts().sort_index()\n",
    "\n",
    "# Plot the data\n",
    "plt.figure(figsize=(10, 6))\n",
    "plt.bar(yearly_movies.index, yearly_movies.values, color='blue')\n",
    "plt.xlabel('Release Year')\n",
    "plt.ylabel('Number of Movies')\n",
    "plt.title('Number of Movies Released Yearly')\n",
    "plt.show()\n"
   ]
  },
  {
   "cell_type": "code",
   "execution_count": 7,
   "id": "5aeda519",
   "metadata": {},
   "outputs": [],
   "source": [
    "# df['genres'] = df['genres'].astype(str)\n",
    "# df['genres'] = df['genres'].str.strip('[]').str.split(',')\n"
   ]
  },
  {
   "cell_type": "code",
   "execution_count": 8,
   "id": "76030609",
   "metadata": {},
   "outputs": [
    {
     "name": "stdout",
     "output_type": "stream",
     "text": [
      "genres\n",
      "['comedy']                                            510\n",
      "['drama']                                             350\n",
      "['documentation']                                     320\n",
      "['comedy', 'drama']                                   141\n",
      "['drama', 'comedy']                                   128\n",
      "                                                     ... \n",
      "['drama', 'family', 'comedy', 'music']                  1\n",
      "['drama', 'thriller', 'western']                        1\n",
      "['comedy', 'thriller', 'drama', 'action', 'crime']      1\n",
      "['romance', 'drama', 'history', 'european']             1\n",
      "['family', 'comedy', 'animation']                       1\n",
      "Name: count, Length: 1626, dtype: int64\n"
     ]
    }
   ],
   "source": [
    "# Assuming 'df' is your DataFrame and 'genres' is the column you want to count values from\n",
    "unique_values = df['genres'].value_counts()\n",
    "print(unique_values)"
   ]
  },
  {
   "cell_type": "code",
   "execution_count": 9,
   "id": "f3e5a7d9",
   "metadata": {},
   "outputs": [
    {
     "name": "stdout",
     "output_type": "stream",
     "text": [
      "                    0                1            2     3     4     5     6  \\\n",
      "0     'documentation'             None         None  None  None  None  None   \n",
      "1             'crime'          'drama'         None  None  None  None  None   \n",
      "2            'comedy'        'fantasy'         None  None  None  None  None   \n",
      "3            'comedy'             None         None  None  None  None  None   \n",
      "4            'horror'             None         None  None  None  None  None   \n",
      "...               ...              ...          ...   ...   ...   ...   ...   \n",
      "5801        'romance'          'drama'         None  None  None  None  None   \n",
      "5802          'music'  'documentation'         None  None  None  None  None   \n",
      "5803         'family'          'drama'         None  None  None  None  None   \n",
      "5804         'action'       'thriller'         None  None  None  None  None   \n",
      "5805         'family'         'comedy'  'animation'  None  None  None  None   \n",
      "\n",
      "         7     8  \n",
      "0     None  None  \n",
      "1     None  None  \n",
      "2     None  None  \n",
      "3     None  None  \n",
      "4     None  None  \n",
      "...    ...   ...  \n",
      "5801  None  None  \n",
      "5802  None  None  \n",
      "5803  None  None  \n",
      "5804  None  None  \n",
      "5805  None  None  \n",
      "\n",
      "[5806 rows x 9 columns]\n"
     ]
    }
   ],
   "source": [
    "# Ensure 'genres' column contains strings\n",
    "df['genres'] = df['genres'].astype(str)\n",
    "\n",
    "# Split the genres\n",
    "split_genres = df['genres'].str.strip('[]').str.split(', ', expand=True)\n",
    "\n",
    "# Print the result\n",
    "print(split_genres)\n"
   ]
  },
  {
   "cell_type": "code",
   "execution_count": 10,
   "id": "343ae01f",
   "metadata": {
    "scrolled": true
   },
   "outputs": [
    {
     "data": {
      "image/png": "[encoded data removed]",
      "text/plain": [
       "<Figure size 1000x600 with 1 Axes>"
      ]
     },
     "metadata": {},
     "output_type": "display_data"
    }
   ],
   "source": [
    "# Convert the string representation of a list to an actual list\n",
    "df['genres'] = df['genres'].str.replace(\"'\", \"\").str.split(',')\n",
    "\n",
    "# Count the occurrences of each genre\n",
    "genre_counts = pd.Series(df['genres'].tolist()).explode().value_counts()\n",
    "\n",
    "# Plot the bar chart\n",
    "plt.figure(figsize = (10, 6))\n",
    "genre_counts.plot(kind = 'barh', color= 'skyblue')\n",
    "plt.title('Distribution of Genres')\n",
    "plt.xlabel('Genres')\n",
    "plt.ylabel('Count')\n",
    "plt.show()\n"
   ]
  },
  {
   "cell_type": "code",
   "execution_count": 11,
   "id": "1bbf40ea",
   "metadata": {},
   "outputs": [
    {
     "data": {
      "text/plain": [
       "title                      1\n",
       "type                       0\n",
       "release_year               0\n",
       "age_certification       2610\n",
       "runtime                    0\n",
       "genres                     0\n",
       "production_countries       0\n",
       "seasons                 3759\n",
       "imdb_id                  444\n",
       "imdb_score               523\n",
       "imdb_votes               539\n",
       "dtype: int64"
      ]
     },
     "execution_count": 11,
     "metadata": {},
     "output_type": "execute_result"
    }
   ],
   "source": [
    "df.isnull().sum()"
   ]
  },
  {
   "cell_type": "code",
   "execution_count": 12,
   "id": "85dec12f",
   "metadata": {},
   "outputs": [],
   "source": [
    "# Reformat the generes columns so they are seperated by commas"
   ]
  },
  {
   "cell_type": "markdown",
   "id": "63de9465",
   "metadata": {},
   "source": [
    "# Task to do on the Data set today:\n",
    "1. Change genres and country features to be commma seprated values.\n",
    "2. Formart countris values to be chaarters\n",
    "3. Change the [] values in genres and production_countries to \"NO_GENRE\" and \"NO_COUNTRY\"\n",
    "4. Check the movie without the title.\n",
    "5. Drop movies without imbd_id\n",
    "\n",
    "6.group movie by type\n",
    "\n",
    "7. TV-MA, R, NC-17 = Adult.\n",
    "\n",
    "8.'PG', 'TV-14', 'G', 'PG-13', 'TV-PG' = Requires Supervision\n",
    "\n",
    "9.'TV-Y', 'TV-G', 'TV-Y7' = Good For Children\n",
    "10.NaN = Not Rated"
   ]
  },
  {
   "cell_type": "code",
   "execution_count": 13,
   "id": "f2b1add2",
   "metadata": {},
   "outputs": [],
   "source": [
    "# Define a function the group the films base on the Age Ceritication Column:\n",
    "\n",
    "def age_group(age_cert):\n",
    "   if age_cert in ['TV-MA', 'R', 'NC-17']:\n",
    "       return 'Adult'\n",
    "   elif age_cert in ['PG', 'TV-14', 'G', 'PG-13', 'TV-PG']:\n",
    "       return 'Requires Supervision'\n",
    "   elif age_cert in ['TV-Y', 'TV-G', 'TV-Y7']:\n",
    "       return 'Good For Children'\n",
    "   else:\n",
    "       return \"Not Rated\"\n",
    "\n"
   ]
  },
  {
   "cell_type": "code",
   "execution_count": 14,
   "id": "f0424c6d",
   "metadata": {},
   "outputs": [],
   "source": [
    "df.loc[:, \"age_group_rating\"] = df[\"age_certification\"].apply(age_group)\n"
   ]
  },
  {
   "cell_type": "code",
   "execution_count": 15,
   "id": "cec5002c",
   "metadata": {},
   "outputs": [
    {
     "data": {
      "text/plain": [
       "age_group_rating\n",
       "Not Rated               2610\n",
       "Requires Supervision    1473\n",
       "Adult                   1430\n",
       "Good For Children        293\n",
       "Name: count, dtype: int64"
      ]
     },
     "execution_count": 15,
     "metadata": {},
     "output_type": "execute_result"
    }
   ],
   "source": [
    "df[\"age_group_rating\"].value_counts()"
   ]
  },
  {
   "cell_type": "code",
   "execution_count": 26,
   "id": "921684cc",
   "metadata": {},
   "outputs": [],
   "source": [
    "children_movies = df[\"age_group_rating\"] == \"Good For Children\""
   ]
  },
  {
   "cell_type": "code",
   "execution_count": 27,
   "id": "4578355a",
   "metadata": {},
   "outputs": [],
   "source": [
    "children_movies_df = df[children_movies]"
   ]
  },
  {
   "cell_type": "code",
   "execution_count": 28,
   "id": "71a43e61",
   "metadata": {
    "scrolled": true
   },
   "outputs": [
    {
     "name": "stdout",
     "output_type": "stream",
     "text": [
      "Index(['title', 'type', 'release_year', 'age_certification', 'runtime',\n",
      "       'genres', 'production_countries', 'seasons', 'imdb_id', 'imdb_score',\n",
      "       'imdb_votes', 'age_group_rating'],\n",
      "      dtype='object')\n"
     ]
    }
   ],
   "source": [
    "print(children_movies_df.columns)\n"
   ]
  },
  {
   "cell_type": "code",
   "execution_count": 29,
   "id": "42ffcc30",
   "metadata": {},
   "outputs": [
    {
     "data": {
      "text/plain": [
       "57      [[family,  comedy,  music,  action,  animation...\n",
       "60                          [[comedy,  romance,  family]]\n",
       "64                                             [[family]]\n",
       "66      [[comedy,  animation,  family,  crime,  europe...\n",
       "67      [[comedy,  family,  scifi,  animation,  europe...\n",
       "                              ...                        \n",
       "5550                                          [[reality]]\n",
       "5586             [[comedy,  family,  action,  animation]]\n",
       "5604                      [[comedy,  family,  animation]]\n",
       "5695                      [[action,  animation,  family]]\n",
       "5765                                                 [[]]\n",
       "Name: genres, Length: 293, dtype: object"
      ]
     },
     "execution_count": 29,
     "metadata": {},
     "output_type": "execute_result"
    }
   ],
   "source": [
    "children_movies_df.get('genres', default=pd.Series(dtype='float64'))\n"
   ]
  },
  {
   "cell_type": "code",
   "execution_count": 30,
   "id": "02eb5a6d",
   "metadata": {},
   "outputs": [],
   "source": [
    "children_movies_df.columns = children_movies_df.columns.str.strip()\n"
   ]
  },
  {
   "cell_type": "code",
   "execution_count": null,
   "id": "af73aea8",
   "metadata": {},
   "outputs": [],
   "source": []
  },
  {
   "cell_type": "code",
   "execution_count": null,
   "id": "380083f4",
   "metadata": {},
   "outputs": [],
   "source": []
  },
  {
   "cell_type": "code",
   "execution_count": 31,
   "id": "8df447a0",
   "metadata": {},
   "outputs": [
    {
     "ename": "KeyError",
     "evalue": "\"None of [Index([nan, nan, nan, nan, nan, nan, nan, nan, nan, nan,\\n       ...\\n       nan, nan, nan, nan, nan, nan, nan, nan, nan, nan],\\n      dtype='float64', length=293)] are in the [columns]\"",
     "output_type": "error",
     "traceback": [
      "\u001b[1;31m---------------------------------------------------------------------------\u001b[0m",
      "\u001b[1;31mKeyError\u001b[0m                                  Traceback (most recent call last)",
      "Cell \u001b[1;32mIn[31], line 1\u001b[0m\n\u001b[1;32m----> 1\u001b[0m children_movies_df[children_movies_df\u001b[38;5;241m.\u001b[39mgenres\u001b[38;5;241m.\u001b[39mstr\u001b[38;5;241m.\u001b[39mcontains(\u001b[38;5;124m\"\u001b[39m\u001b[38;5;124manimation\u001b[39m\u001b[38;5;124m\"\u001b[39m)]\n",
      "File \u001b[1;32m~\\anaconda3\\Lib\\site-packages\\pandas\\core\\frame.py:3767\u001b[0m, in \u001b[0;36mDataFrame.__getitem__\u001b[1;34m(self, key)\u001b[0m\n\u001b[0;32m   3765\u001b[0m     \u001b[38;5;28;01mif\u001b[39;00m is_iterator(key):\n\u001b[0;32m   3766\u001b[0m         key \u001b[38;5;241m=\u001b[39m \u001b[38;5;28mlist\u001b[39m(key)\n\u001b[1;32m-> 3767\u001b[0m     indexer \u001b[38;5;241m=\u001b[39m \u001b[38;5;28mself\u001b[39m\u001b[38;5;241m.\u001b[39mcolumns\u001b[38;5;241m.\u001b[39m_get_indexer_strict(key, \u001b[38;5;124m\"\u001b[39m\u001b[38;5;124mcolumns\u001b[39m\u001b[38;5;124m\"\u001b[39m)[\u001b[38;5;241m1\u001b[39m]\n\u001b[0;32m   3769\u001b[0m \u001b[38;5;66;03m# take() does not accept boolean indexers\u001b[39;00m\n\u001b[0;32m   3770\u001b[0m \u001b[38;5;28;01mif\u001b[39;00m \u001b[38;5;28mgetattr\u001b[39m(indexer, \u001b[38;5;124m\"\u001b[39m\u001b[38;5;124mdtype\u001b[39m\u001b[38;5;124m\"\u001b[39m, \u001b[38;5;28;01mNone\u001b[39;00m) \u001b[38;5;241m==\u001b[39m \u001b[38;5;28mbool\u001b[39m:\n",
      "File \u001b[1;32m~\\anaconda3\\Lib\\site-packages\\pandas\\core\\indexes\\base.py:5877\u001b[0m, in \u001b[0;36mIndex._get_indexer_strict\u001b[1;34m(self, key, axis_name)\u001b[0m\n\u001b[0;32m   5874\u001b[0m \u001b[38;5;28;01melse\u001b[39;00m:\n\u001b[0;32m   5875\u001b[0m     keyarr, indexer, new_indexer \u001b[38;5;241m=\u001b[39m \u001b[38;5;28mself\u001b[39m\u001b[38;5;241m.\u001b[39m_reindex_non_unique(keyarr)\n\u001b[1;32m-> 5877\u001b[0m \u001b[38;5;28mself\u001b[39m\u001b[38;5;241m.\u001b[39m_raise_if_missing(keyarr, indexer, axis_name)\n\u001b[0;32m   5879\u001b[0m keyarr \u001b[38;5;241m=\u001b[39m \u001b[38;5;28mself\u001b[39m\u001b[38;5;241m.\u001b[39mtake(indexer)\n\u001b[0;32m   5880\u001b[0m \u001b[38;5;28;01mif\u001b[39;00m \u001b[38;5;28misinstance\u001b[39m(key, Index):\n\u001b[0;32m   5881\u001b[0m     \u001b[38;5;66;03m# GH 42790 - Preserve name from an Index\u001b[39;00m\n",
      "File \u001b[1;32m~\\anaconda3\\Lib\\site-packages\\pandas\\core\\indexes\\base.py:5938\u001b[0m, in \u001b[0;36mIndex._raise_if_missing\u001b[1;34m(self, key, indexer, axis_name)\u001b[0m\n\u001b[0;32m   5936\u001b[0m     \u001b[38;5;28;01mif\u001b[39;00m use_interval_msg:\n\u001b[0;32m   5937\u001b[0m         key \u001b[38;5;241m=\u001b[39m \u001b[38;5;28mlist\u001b[39m(key)\n\u001b[1;32m-> 5938\u001b[0m     \u001b[38;5;28;01mraise\u001b[39;00m \u001b[38;5;167;01mKeyError\u001b[39;00m(\u001b[38;5;124mf\u001b[39m\u001b[38;5;124m\"\u001b[39m\u001b[38;5;124mNone of [\u001b[39m\u001b[38;5;132;01m{\u001b[39;00mkey\u001b[38;5;132;01m}\u001b[39;00m\u001b[38;5;124m] are in the [\u001b[39m\u001b[38;5;132;01m{\u001b[39;00maxis_name\u001b[38;5;132;01m}\u001b[39;00m\u001b[38;5;124m]\u001b[39m\u001b[38;5;124m\"\u001b[39m)\n\u001b[0;32m   5940\u001b[0m not_found \u001b[38;5;241m=\u001b[39m \u001b[38;5;28mlist\u001b[39m(ensure_index(key)[missing_mask\u001b[38;5;241m.\u001b[39mnonzero()[\u001b[38;5;241m0\u001b[39m]]\u001b[38;5;241m.\u001b[39munique())\n\u001b[0;32m   5941\u001b[0m \u001b[38;5;28;01mraise\u001b[39;00m \u001b[38;5;167;01mKeyError\u001b[39;00m(\u001b[38;5;124mf\u001b[39m\u001b[38;5;124m\"\u001b[39m\u001b[38;5;132;01m{\u001b[39;00mnot_found\u001b[38;5;132;01m}\u001b[39;00m\u001b[38;5;124m not in index\u001b[39m\u001b[38;5;124m\"\u001b[39m)\n",
      "\u001b[1;31mKeyError\u001b[0m: \"None of [Index([nan, nan, nan, nan, nan, nan, nan, nan, nan, nan,\\n       ...\\n       nan, nan, nan, nan, nan, nan, nan, nan, nan, nan],\\n      dtype='float64', length=293)] are in the [columns]\""
     ]
    }
   ],
   "source": [
    "children_movies_df[children_movies_df.genres.str.contains(\"animation\")]"
   ]
  },
  {
   "cell_type": "code",
   "execution_count": null,
   "id": "a86bcd69",
   "metadata": {},
   "outputs": [],
   "source": []
  },
  {
   "cell_type": "code",
   "execution_count": null,
   "id": "30b48d82",
   "metadata": {},
   "outputs": [],
   "source": []
  },
  {
   "cell_type": "code",
   "execution_count": null,
   "id": "f4ff7879",
   "metadata": {},
   "outputs": [],
   "source": []
  },
  {
   "cell_type": "code",
   "execution_count": null,
   "id": "4c43b0fc",
   "metadata": {},
   "outputs": [],
   "source": []
  },
  {
   "cell_type": "code",
   "execution_count": null,
   "id": "dbb29c71",
   "metadata": {},
   "outputs": [],
   "source": []
  },
  {
   "cell_type": "code",
   "execution_count": null,
   "id": "5597531f",
   "metadata": {},
   "outputs": [],
   "source": []
  },
  {
   "cell_type": "code",
   "execution_count": null,
   "id": "a3ab927b",
   "metadata": {},
   "outputs": [],
   "source": [
    "df['production_countries'] = df['production_countries'].apply(lambda x: ', '.join(x))"
   ]
  },
  {
   "cell_type": "code",
   "execution_count": null,
   "id": "eafbf2d4",
   "metadata": {},
   "outputs": [],
   "source": [
    "df"
   ]
  },
  {
   "cell_type": "code",
   "execution_count": null,
   "id": "2445a8fb",
   "metadata": {},
   "outputs": [],
   "source": [
    "df['genres'] = df['genres'].apply(lambda x: ', '.join(x))"
   ]
  },
  {
   "cell_type": "code",
   "execution_count": null,
   "id": "5e782bf4",
   "metadata": {
    "scrolled": true
   },
   "outputs": [],
   "source": [
    "df"
   ]
  },
  {
   "cell_type": "code",
   "execution_count": null,
   "id": "0f58680b",
   "metadata": {},
   "outputs": [],
   "source": []
  },
  {
   "cell_type": "code",
   "execution_count": null,
   "id": "9feb5a3f",
   "metadata": {
    "scrolled": true
   },
   "outputs": [],
   "source": [
    "df"
   ]
  },
  {
   "cell_type": "code",
   "execution_count": null,
   "id": "fd1267d1",
   "metadata": {},
   "outputs": [],
   "source": [
    "#df['genres'] = df['genres'].apply(lambda x: ', '.join(x))\n"
   ]
  },
  {
   "cell_type": "code",
   "execution_count": null,
   "id": "91983b2c",
   "metadata": {},
   "outputs": [],
   "source": [
    "df"
   ]
  },
  {
   "cell_type": "code",
   "execution_count": null,
   "id": "d83f799a",
   "metadata": {},
   "outputs": [],
   "source": [
    "df.age_certification.unique()"
   ]
  },
  {
   "cell_type": "code",
   "execution_count": null,
   "id": "d16582cc",
   "metadata": {},
   "outputs": [],
   "source": [
    "df.type.unique()"
   ]
  },
  {
   "cell_type": "code",
   "execution_count": null,
   "id": "2cd6fa22",
   "metadata": {},
   "outputs": [],
   "source": [
    "df"
   ]
  },
  {
   "cell_type": "code",
   "execution_count": null,
   "id": "5b63964f",
   "metadata": {},
   "outputs": [],
   "source": [
    "blank_genre_mask = df[\"genres\"] == \"[]\"\n",
    "df.loc[blank_genre_mask, \"genres\"] = \"NO_GENRE\""
   ]
  },
  {
   "cell_type": "code",
   "execution_count": null,
   "id": "2c9fd1cb",
   "metadata": {},
   "outputs": [],
   "source": [
    "df.genres.sample(50)"
   ]
  },
  {
   "cell_type": "code",
   "execution_count": null,
   "id": "84c82e84",
   "metadata": {},
   "outputs": [],
   "source": [
    "#Find the observation with the Lebanon and replace it with LB"
   ]
  },
  {
   "cell_type": "code",
   "execution_count": null,
   "id": "7cef063d",
   "metadata": {},
   "outputs": [],
   "source": [
    "df.production_countries.value_counts()"
   ]
  },
  {
   "cell_type": "code",
   "execution_count": null,
   "id": "ab2a69ce",
   "metadata": {},
   "outputs": [],
   "source": [
    "df.production_countries.unique()"
   ]
  },
  {
   "cell_type": "code",
   "execution_count": null,
   "id": "7f057069",
   "metadata": {},
   "outputs": [],
   "source": [
    "df.iloc[651]"
   ]
  },
  {
   "cell_type": "code",
   "execution_count": null,
   "id": "55e27193",
   "metadata": {},
   "outputs": [],
   "source": [
    "df[df.production_countries.str.contains(\"Leb\")]"
   ]
  },
  {
   "cell_type": "code",
   "execution_count": null,
   "id": "e1dfa312",
   "metadata": {},
   "outputs": [],
   "source": [
    "leb_mask = df.production_countries.str.contains(\"Leb\")\n",
    "\n",
    "new_lb_values = df[leb_mask][\"production_countries\"].str.replace('Lebanon', 'LB')\n",
    "\n",
    "df.loc[leb_mask, \"production_countries\"] = new_lb_values"
   ]
  },
  {
   "cell_type": "code",
   "execution_count": null,
   "id": "7a707ff0",
   "metadata": {
    "scrolled": true
   },
   "outputs": [],
   "source": [
    "df"
   ]
  },
  {
   "cell_type": "code",
   "execution_count": null,
   "id": "a4bc00c3",
   "metadata": {},
   "outputs": [],
   "source": [
    "# df.title.value_counts()\n",
    "df['title']"
   ]
  },
  {
   "cell_type": "code",
   "execution_count": null,
   "id": "a961b279",
   "metadata": {},
   "outputs": [],
   "source": [
    "leb_title = df.title.str.contains(\"\")"
   ]
  },
  {
   "cell_type": "code",
   "execution_count": null,
   "id": "d46c2002",
   "metadata": {},
   "outputs": [],
   "source": [
    "leb_title"
   ]
  },
  {
   "cell_type": "code",
   "execution_count": null,
   "id": "45a65e1c",
   "metadata": {},
   "outputs": [],
   "source": [
    "df['title'].isnull().sum()"
   ]
  },
  {
   "cell_type": "code",
   "execution_count": null,
   "id": "6a5960de",
   "metadata": {},
   "outputs": [],
   "source": [
    "df.iloc[649]"
   ]
  },
  {
   "cell_type": "code",
   "execution_count": null,
   "id": "714a7e3d",
   "metadata": {},
   "outputs": [],
   "source": [
    "df[df[\"title\"].isnull()]"
   ]
  },
  {
   "cell_type": "code",
   "execution_count": null,
   "id": "dae65f43",
   "metadata": {},
   "outputs": [],
   "source": [
    "#Drop the element without title\n",
    "\n",
    "df = df.dropna(subset=['title'])\n"
   ]
  },
  {
   "cell_type": "code",
   "execution_count": null,
   "id": "0dd57e8d",
   "metadata": {},
   "outputs": [],
   "source": [
    "df[df[\"title\"].isnull()]"
   ]
  },
  {
   "cell_type": "code",
   "execution_count": null,
   "id": "cebc2253",
   "metadata": {},
   "outputs": [],
   "source": [
    " df[df[\"imdb_id\"].isnull()].count()"
   ]
  },
  {
   "cell_type": "code",
   "execution_count": null,
   "id": "35c2b32e",
   "metadata": {},
   "outputs": [],
   "source": [
    "#Drop the element without title\n",
    "\n",
    "df = df.dropna(subset=['imdb_id'])\n"
   ]
  },
  {
   "cell_type": "code",
   "execution_count": null,
   "id": "1e5bcde9",
   "metadata": {},
   "outputs": [],
   "source": [
    " df[df[\"imdb_id\"].isnull()].count()"
   ]
  },
  {
   "cell_type": "code",
   "execution_count": null,
   "id": "c74b933f",
   "metadata": {},
   "outputs": [],
   "source": [
    "# # Define a function the group the films base on the Age Ceritication Column:\n",
    "\n",
    "# def age_group(age_cert):\n",
    "#    if age_cert in ['TV-MA', 'R', 'NC-17']:\n",
    "#        return 'Adult'\n",
    "#    elif age_cert in ['PG', 'TV-14', 'G', 'PG-13', 'TV-PG']:\n",
    "#        return 'Requires Supervision'\n",
    "#    elif age_cert in ['TV-Y', 'TV-G', 'TV-Y7']:\n",
    "#        return 'Good For Children'\n",
    "#    else:\n",
    "#        return \"Not Rated\"\n"
   ]
  },
  {
   "cell_type": "code",
   "execution_count": 20,
   "id": "5acbb0da",
   "metadata": {},
   "outputs": [],
   "source": [
    "df.loc[:, \"age_group_rating\"] = df[\"age_certification\"].apply(age_group)\n",
    "\n"
   ]
  },
  {
   "cell_type": "code",
   "execution_count": 21,
   "id": "d4550518",
   "metadata": {},
   "outputs": [
    {
     "data": {
      "text/plain": [
       "age_group_rating\n",
       "Not Rated               2610\n",
       "Requires Supervision    1473\n",
       "Adult                   1430\n",
       "Good For Children        293\n",
       "Name: count, dtype: int64"
      ]
     },
     "execution_count": 21,
     "metadata": {},
     "output_type": "execute_result"
    }
   ],
   "source": [
    "df[\"age_group_rating\"].value_counts()"
   ]
  },
  {
   "cell_type": "code",
   "execution_count": 22,
   "id": "ea64743f",
   "metadata": {},
   "outputs": [],
   "source": [
    "children_movies = df[\"age_group_rating\"] == \"Good For Children\""
   ]
  },
  {
   "cell_type": "code",
   "execution_count": null,
   "id": "00be8921",
   "metadata": {},
   "outputs": [],
   "source": []
  },
  {
   "cell_type": "code",
   "execution_count": 23,
   "id": "bead0a5d",
   "metadata": {},
   "outputs": [],
   "source": [
    "children_movies_df = df[children_movies]"
   ]
  },
  {
   "cell_type": "code",
   "execution_count": null,
   "id": "3afdf0ce",
   "metadata": {},
   "outputs": [],
   "source": [
    "# children_movies_df[children_movies_df.genres.str.contains(\"animation\")]"
   ]
  },
  {
   "cell_type": "markdown",
   "id": "f5faf83e",
   "metadata": {},
   "source": [
    "# Assignment:\n",
    "\n",
    "1.Find number of movies relased in each decade\n",
    "from 1945, show a line chart to display this.\n",
    "\n",
    "\n",
    "2. show the distirbution of run time features using an appropriate chart.\n",
    "\n",
    "\n",
    "3. show barchart for movie genres.\n",
    "\n",
    "\n",
    "4. show barchart for movie genres for children movies.\n",
    "\n",
    "\n",
    "5. which of the genres have the highest runtime on the overal datatset and for each age group."
   ]
  },
  {
   "cell_type": "code",
   "execution_count": null,
   "id": "192b9571",
   "metadata": {},
   "outputs": [],
   "source": [
    "c = 0\n",
    "for i in range(3):\n",
    "    for j in range(3):\n",
    "        if i == j:\n",
    "            c = c + 1\n",
    "            "
   ]
  },
  {
   "cell_type": "code",
   "execution_count": null,
   "id": "772919bd",
   "metadata": {},
   "outputs": [],
   "source": [
    "print(c)"
   ]
  },
  {
   "cell_type": "code",
   "execution_count": null,
   "id": "0d13d05a",
   "metadata": {},
   "outputs": [],
   "source": []
  },
  {
   "cell_type": "code",
   "execution_count": null,
   "id": "c564db72",
   "metadata": {},
   "outputs": [],
   "source": []
  },
  {
   "cell_type": "code",
   "execution_count": null,
   "id": "5a560678",
   "metadata": {},
   "outputs": [],
   "source": []
  },
  {
   "cell_type": "code",
   "execution_count": null,
   "id": "b225b997",
   "metadata": {},
   "outputs": [],
   "source": []
  },
  {
   "cell_type": "code",
   "execution_count": null,
   "id": "54a8e4f5",
   "metadata": {},
   "outputs": [],
   "source": []
  }
 ],
 "metadata": {
  "kernelspec": {
   "display_name": "Python 3 (ipykernel)",
   "language": "python",
   "name": "python3"
  },
  "language_info": {
   "codemirror_mode": {
    "name": "ipython",
    "version": 3
   },
   "file_extension": ".py",
   "mimetype": "text/x-python",
   "name": "python",
   "nbconvert_exporter": "python",
   "pygments_lexer": "ipython3",
   "version": "3.11.5"
  }
 },
 "nbformat": 4,
 "nbformat_minor": 5
}
